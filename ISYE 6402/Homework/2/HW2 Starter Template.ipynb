{
 "cells": [
  {
   "cell_type": "code",
   "execution_count": null,
   "metadata": {},
   "outputs": [],
   "source": [
    "# Set up the default parameters\n",
    "# 1. The code block will be shown in the document\n",
    "# 2. set up figure display size\n",
    "# 3. turn off all the warnings and messages\n",
    "\n",
    "knitr::opts_chunk$set(echo = TRUE)\n",
    "knitr::opts_chunk$set(fig.width = 8, fig.height = 4)\n",
    "knitr::opts_chunk$set(warning = FALSE, message = FALSE)\n"
   ]
  },
  {
   "cell_type": "markdown",
   "metadata": {},
   "source": [
    "# Part 1: Currency Conversion Analysis\n",
    "\n",
    "# Background\n",
    "\n",
    "In this problem, we will study fluctuations in currency exchange rate over time.\n",
    "\n",
    "File `USD-JPY.csv` download contains the daily exchange rate of USD/JPY from January 2000 through May 31st 2022. We will aggregate the data on a weekly basis, by taking the average rate within each week. The time series of interest is the weekly currency exchange. We will analyze this time series and its first order difference.\n",
    "\n",
    "# Instructions on reading the data\n",
    "\n",
    "To read the data in `R`, save the file in your working directory (make sure you have changed the directory if different from the R working directory) and read the data using the `R` function `read.csv()`\n"
   ]
  },
  {
   "cell_type": "code",
   "execution_count": null,
   "metadata": {},
   "outputs": [],
   "source": [
    "fpath <- \"USD-JPY.csv\"\n",
    "df <- read.csv(fpath, head = TRUE)\n"
   ]
  },
  {
   "cell_type": "markdown",
   "metadata": {},
   "source": [
    "Here we upload the libraries needed the this data analysis:\n",
    "\n"
   ]
  },
  {
   "cell_type": "code",
   "execution_count": null,
   "metadata": {},
   "outputs": [],
   "source": [
    "library(mgcv)\n",
    "library(lubridate)\n",
    "library(dplyr)\n"
   ]
  },
  {
   "cell_type": "markdown",
   "metadata": {},
   "source": [
    "To prepare the data, run the following code snippet. First, aggregate by week:\n",
    "\n"
   ]
  },
  {
   "cell_type": "code",
   "execution_count": null,
   "metadata": {},
   "outputs": [],
   "source": [
    "df$date <- as.Date(df$Date, format='%Y-%m-%d')\n",
    "df$week <- floor_date(df$date, \"week\")\n",
    "\n",
    "\n",
    "df <- df[, c(\"week\", \"jpy\")]\n"
   ]
  },
  {
   "cell_type": "markdown",
   "metadata": {},
   "source": [
    "We now form the weekly aggrgated time series to use for data exploration! Please note that we will analyze the weekly aggregated data not the original (daily) data. \n",
    "\n"
   ]
  },
  {
   "cell_type": "code",
   "execution_count": null,
   "metadata": {},
   "outputs": [],
   "source": [
    "agg <- aggregate(x = df$jpy, by = list(df$week), FUN = mean)\n",
    "colnames(agg) <- c(\"week\", \"jpy\")\n",
    "\n",
    "jpy.ts <- ts(agg$jpy, start = 2000, freq = 52)\n"
   ]
  },
  {
   "cell_type": "markdown",
   "metadata": {},
   "source": [
    "#### Please use the `jpy` series to code and answer the following questions. ####\n",
    "\n",
    "\n",
    "# Question 1a: Exploratory Data Analysis \n",
    "\n",
    "Before exploring the data, can you infer the data features from what you know about the USD-JPY currency exchange? Next plot the Time Series and ACF plots of the weekly data. Comment on the main features, and identify what (if any) assumptions of stationarity are violated.\n",
    "\n",
    "Which type of model do you think will fit the data better: the trend or seasonality fitting model? Provide details for your response."
   ]
  },
  {
   "cell_type": "markdown",
   "metadata": {},
   "source": [
    "*Response: General Insights on the USD-JPY Currency Rate*"
   ]
  },
  {
   "cell_type": "code",
   "execution_count": null,
   "metadata": {},
   "outputs": [],
   "source": [
    "\n",
    "\n"
   ]
  },
  {
   "cell_type": "markdown",
   "metadata": {},
   "source": [
    "*Response: General Insights from the Graphical Analysis*"
   ]
  },
  {
   "cell_type": "markdown",
   "metadata": {},
   "source": [
    "# Question 1b: Trend Estimation\n",
    "\n",
    "Fit the following trend estimation models:\n",
    "\n",
    "- Moving Average\n",
    "\n",
    "- Parametric Quadratic Polynomial\n",
    "\n",
    "- Local Polynomial\n",
    "\n",
    "- Splines Smoothing\n",
    "\n",
    "Overlay the fitted values on the original time series. Plot the residuals with respect to time for each model. Plot the ACF of the residuals for each model also. Comment on the four models fit and on the appropriateness of the stationarity assumption of the residuals."
   ]
  },
  {
   "cell_type": "code",
   "execution_count": null,
   "metadata": {},
   "outputs": [],
   "source": [
    "\n",
    "\n"
   ]
  },
  {
   "cell_type": "markdown",
   "metadata": {},
   "source": [
    "*Response: Comparison of the fitted trend models:*\n",
    "\n"
   ]
  },
  {
   "cell_type": "code",
   "execution_count": null,
   "metadata": {},
   "outputs": [],
   "source": [
    "\n",
    "\n"
   ]
  },
  {
   "cell_type": "markdown",
   "metadata": {},
   "source": [
    "*Response: Appropriateness of the trend model for stationarity*"
   ]
  },
  {
   "cell_type": "markdown",
   "metadata": {},
   "source": [
    "# Question 1c: Differenced Data Modeling\n",
    "\n",
    "Now plot the difference time series and its ACF plot. Apply the four trend models in Question 1b to the differenced time series. What can you conclude about the difference data in terms of stationarity? Which model would you recommend to apply (trend removal via fitting trend vs differencing) such that to obtain a stationary process?\n",
    "\n",
    "**Hint:** When TS data are differenced, the resulting data set will have an NA in the first data element due to the differencing."
   ]
  },
  {
   "cell_type": "code",
   "execution_count": null,
   "metadata": {},
   "outputs": [],
   "source": [
    "\n",
    "\n"
   ]
  },
  {
   "cell_type": "markdown",
   "metadata": {},
   "source": [
    "*Response: Comments about the stationarity of the difference data:*"
   ]
  },
  {
   "cell_type": "markdown",
   "metadata": {},
   "source": [
    "# Part 2: Temperature Analysis\n",
    "\n",
    "# Background\n",
    "\n",
    "In this problem, we will analyze aggregated temperature data.\n",
    "\n",
    "Data *Everest Temp Jan-Mar 2021.csv* contains the hourly average temperature at the Mount Everest Base Camp for the months of January to March 2021. Run the following code to prepare the data for analysis:\n",
    "\n",
    "## Instructions on reading the data\n",
    "\n",
    "To read the data in `R`, save the file in your working directory (make sure you have changed the directory if different from the R working directory) and read the data using the `R` function `read.csv()`\n",
    "\n",
    "You will perform the analysis and modelling on the `Temp` data column."
   ]
  },
  {
   "cell_type": "code",
   "execution_count": null,
   "metadata": {},
   "outputs": [],
   "source": [
    "fpath <- \"Everest Temp Jan-Mar 2021.csv\"\n",
    "df <- read.csv(fpath, head = TRUE)\n"
   ]
  },
  {
   "cell_type": "markdown",
   "metadata": {},
   "source": [
    "Here are the libraries you will need:\n",
    "\n"
   ]
  },
  {
   "cell_type": "code",
   "execution_count": null,
   "metadata": {},
   "outputs": [],
   "source": [
    "library(mgcv)\n",
    "library(TSA)\n",
    "library(dynlm)\n"
   ]
  },
  {
   "cell_type": "markdown",
   "metadata": {},
   "source": [
    "Run the following code to prepare the data for analysis:\n",
    "\n"
   ]
  },
  {
   "cell_type": "code",
   "execution_count": null,
   "metadata": {},
   "outputs": [],
   "source": [
    "df$timestamp<-ymd_hms(df$timestamp)\n",
    "temp <- ts(df$temp, freq = 24)\n",
    "\n",
    "datetime<-ts(df$timestamp)\n"
   ]
  },
  {
   "cell_type": "markdown",
   "metadata": {},
   "source": [
    "  \n",
    "\n",
    "# Question 2a: Exploratory Data Analysis\n",
    "\n",
    "Plot both the Time Series and ACF plots. Comment on the main features, and identify what (if any) assumptions of stationarity are violated. Additionally, comment if you believe the differenced data is more appropriate for use in fitting the data. Support your response with a graphical analysis.\n",
    "\n",
    "**Hint:** Make sure to use the appropriate differenced data. \n"
   ]
  },
  {
   "cell_type": "code",
   "execution_count": null,
   "metadata": {},
   "outputs": [],
   "source": [
    "\n",
    "\n"
   ]
  },
  {
   "cell_type": "markdown",
   "metadata": {},
   "source": [
    "*Response: Comments about the time series and ACF plots of the original time series*\n",
    "\n"
   ]
  },
  {
   "cell_type": "code",
   "execution_count": null,
   "metadata": {},
   "outputs": [],
   "source": [
    "\n",
    "\n"
   ]
  },
  {
   "cell_type": "markdown",
   "metadata": {},
   "source": [
    "*Response: Comments about the time series and ACF plots of the difference time series*"
   ]
  },
  {
   "cell_type": "markdown",
   "metadata": {},
   "source": [
    "# Question 2b: Seasonality Estimation\n",
    "\n",
    "Separately fit a seasonality harmonic model and the ANOVA seasonality model to the temperature data. Evaluate the quality of each fit with residual analysis. Does one model perform better than the other? Which model would you select to fit the seasonality in the data?"
   ]
  },
  {
   "cell_type": "code",
   "execution_count": null,
   "metadata": {},
   "outputs": [],
   "source": [
    "\n",
    "\n"
   ]
  },
  {
   "cell_type": "markdown",
   "metadata": {},
   "source": [
    "*Response: Compare Seasonality Models*"
   ]
  },
  {
   "cell_type": "markdown",
   "metadata": {},
   "source": [
    "# Question 2c: Trend-Seasonality Estimation\n",
    "\n",
    "Using the time series data, fit the following models to estimate the trend with seasonality fitted using ANOVA:\n",
    "\n",
    "- Parametric Polynomial Regression\n",
    "\n",
    "- Non-parametric model\n",
    "\n",
    "Overlay the fitted values on the original time series. Plot the residuals with respect to time. Plot the ACF of the residuals. Comment on how the two models fit and on the appropriateness of the stationarity assumption of the residuals.\n",
    "\n",
    "What form of modelling seems most appropriate and what implications might this have for how one might expect long term temperature data to behave? Provide explicit conclusions based on the data analysis."
   ]
  },
  {
   "cell_type": "code",
   "execution_count": null,
   "metadata": {},
   "outputs": [],
   "source": [
    "\n",
    "\n"
   ]
  },
  {
   "cell_type": "markdown",
   "metadata": {},
   "source": [
    "*Response: Model Comparison*\n",
    "\n"
   ]
  }
 ],
 "metadata": {
  "anaconda-cloud": "",
  "kernelspec": {
   "display_name": "R",
   "language": "R",
   "name": "ir"
  },
  "language_info": {
   "codemirror_mode": "r",
   "file_extension": ".r",
   "mimetype": "text/x-r-source",
   "name": "R",
   "pygments_lexer": "r",
   "version": "3.6.1"
  }
 },
 "nbformat": 4,
 "nbformat_minor": 1
}
