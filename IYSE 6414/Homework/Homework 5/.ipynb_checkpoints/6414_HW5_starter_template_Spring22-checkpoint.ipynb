{
 "cells": [
  {
   "cell_type": "markdown",
   "id": "classified-greensboro",
   "metadata": {},
   "source": [
    "## Background\n",
    "\n",
    "Selected molecular descriptors from the Dragon chemoinformatics application were used to predict bioconcentration factors for 779 chemicals in order to evaluate QSAR (Quantitative Structure Activity Relationship).  This dataset was obtained from the UCI machine learning repository.\n",
    "\n",
    "The dataset consists of 779 observations of 10 attributes. Below is a brief description of each feature and the response variable (logBCF) in our dataset:\n",
    "\n",
    "1. *nHM* - number of heavy atoms (integer)\n",
    "2. *piPC09* - molecular multiple path count (numeric)\n",
    "3. *PCD* - difference between multiple path count and path count (numeric)\n",
    "4. *X2Av* - average valence connectivity (numeric)\n",
    "5. *MLOGP* - Moriguchi octanol-water partition coefficient (numeric)\n",
    "6. *ON1V* -  overall modified Zagreb index by valence vertex degrees (numeric)\n",
    "7. *N.072* - Frequency of RCO-N< / >N-X=X fragments (integer)\n",
    "8. *B02[C-N]* - Presence/Absence of C-N atom pairs (binary)\n",
    "9. *F04[C-O]* - Frequency of C-O atom pairs (integer)\n",
    "10. *logBCF* - Bioconcentration Factor in log units (numeric)\n",
    "\n",
    "Note that all predictors with the exception of B02[C-N] are quantitative.  For the purpose of this assignment, DO NOT CONVERT B02[C-N] to factor.  Leave the data in its original format - numeric in R.\n",
    "\n",
    "Please load the dataset \"Bio_pred\" and then split the dataset into a train and test set in a 80:20 ratio.\n",
    "\n",
    "Please make sure that you are using R version 3.6.X or above (i.e. version 4.X is also acceptable).\n",
    "\n",
    "## Read Data"
   ]
  },
  {
   "cell_type": "code",
   "execution_count": null,
   "id": "565bb884",
   "metadata": {},
   "outputs": [],
   "source": [
    "install.packages(\"https://cran.r-project.org/src/contrib/Archive/CombMSC/CombMSC_1.4.2.1.tar.gz\")\n",
    "install.packages(\"leaps\")"
   ]
  },
  {
   "cell_type": "code",
   "execution_count": null,
   "id": "developed-excellence",
   "metadata": {
    "message": false,
    "warning": false
   },
   "outputs": [],
   "source": [
    "# Clear variables in memory\n",
    "rm(list=ls())\n",
    "\n",
    "# Import the libraries\n",
    "library(CombMSC)\n",
    "library(boot)\n",
    "library(leaps)\n",
    "library(MASS)\n",
    "library(glmnet)\n",
    "\n",
    "# Ensure that the sampling type is correct\n",
    "RNGkind(sample.kind=\"Rejection\")\n",
    "\n",
    "# Set a seed for reproducibility\n",
    "set.seed(100)\n",
    "\n",
    "# Read data\n",
    "fullData = read.csv(\"Bio_pred.csv\",header=TRUE)\n",
    "\n",
    "# Split data for traIning and testing\n",
    "testRows = sample(nrow(fullData),0.2*nrow(fullData))\n",
    "testData = fullData[testRows, ]\n",
    "trainData = fullData[-testRows, ]"
   ]
  },
  {
   "cell_type": "markdown",
   "id": "080db098",
   "metadata": {},
   "source": [
    "Note: Use the training set to build the models in Questions 1-6. Use the test set to help evaluate model performance in Question 7."
   ]
  },
  {
   "cell_type": "markdown",
   "id": "studied-citation",
   "metadata": {},
   "source": [
    "## Question 1: Full Model\n",
    "\n",
    "(a) Fit a multiple linear regression with the variable *logBCF* as the response and the other variables as predictors. Call it *model1*. Display the model summary."
   ]
  },
  {
   "cell_type": "code",
   "execution_count": null,
   "id": "liable-stopping",
   "metadata": {
    "lines_to_next_cell": 2
   },
   "outputs": [],
   "source": [
    "model1 = lm(logBCF~., data=trainData)\n",
    "summary(model1)"
   ]
  },
  {
   "cell_type": "markdown",
   "id": "final-minister",
   "metadata": {},
   "source": [
    "(b) Which regression coefficients are significant at the 95% confidence level? At the 99% confidence level?\n",
    "\n",
    "95%: nHM, MLOGP, ON1V, P02.C.N., F04.C.O\n",
    "99%: nHM, MLOGP, F04.C.O"
   ]
  },
  {
   "cell_type": "markdown",
   "id": "2752a2b0",
   "metadata": {},
   "source": []
  },
  {
   "cell_type": "markdown",
   "id": "changing-effects",
   "metadata": {},
   "source": [
    "(c) What are the Mallow's Cp, AIC, and BIC criterion values for this model?"
   ]
  },
  {
   "cell_type": "code",
   "execution_count": null,
   "id": "whole-cocktail",
   "metadata": {
    "lines_to_next_cell": 2,
    "message": false,
    "warning": false
   },
   "outputs": [],
   "source": [
    "set.seed(100)\n",
    "\n",
    "n = nrow(trainData)\n",
    "\n",
    "cp <- Cp(model1, S2=summary(model1)$sigma^2)\n",
    "aic <- AIC(model1, k=2)\n",
    "bic <- AIC(model1, k=log(n))\n",
    "data.frame(MallowsCp=cp, AIC=aic, BIC=bic)\n"
   ]
  },
  {
   "cell_type": "markdown",
   "id": "unusual-nevada",
   "metadata": {},
   "source": [
    "(d) Build a new model on the training data with only the variables which coefficients were found to be statistically significant at the 99% confidence level. Call it *model2*. Perform a Partial F-test to compare this new model (*model2*) with the full model (*model1*). Which one would you prefer? Is it good practice to select variables based on statistical significance of individual coefficients? Explain."
   ]
  },
  {
   "cell_type": "code",
   "execution_count": null,
   "id": "announced-marijuana",
   "metadata": {
    "lines_to_next_cell": 0
   },
   "outputs": [],
   "source": [
    "set.seed(100)\n",
    "\n",
    "model2 = lm(logBCF~nHM+MLOGP+F04.C.O., data=trainData)\n",
    "anova(model2, model1)\n"
   ]
  },
  {
   "cell_type": "markdown",
   "id": "powered-south",
   "metadata": {},
   "source": [
    "The p-value is $\\approx 0$ therefore we reject the null hypothesis of the reduced model and conclude that additional variables in the full model are useful. It is not good practice to select variables based on statistical signficance. More advanced preditor selection methods should be used to eliminate predictors."
   ]
  },
  {
   "cell_type": "markdown",
   "id": "nasty-moderator",
   "metadata": {},
   "source": [
    "## Question 2: Full Model Search\n",
    "\n",
    "(a) Compare all possible models using Mallow's Cp. What is the total number of possible models with the full set of variables? Display a table indicating the variables included in the best model of each size and the corresponding Mallow's Cp value. \n",
    "\n",
    "Hint: You can use nbest parameter. "
   ]
  },
  {
   "cell_type": "code",
   "execution_count": null,
   "id": "opponent-drain",
   "metadata": {
    "lines_to_next_cell": 2,
    "message": false,
    "warning": false
   },
   "outputs": [],
   "source": [
    "set.seed(100)\n",
    "\n",
    "out = leaps(trainData[,-c(10)], trainData$logBCF, method=\"Cp\")\n",
    "cbind(as.matrix(out$which), out$Cp)"
   ]
  },
  {
   "cell_type": "markdown",
   "id": "martial-scanning",
   "metadata": {},
   "source": [
    "(b) How many variables are in the model with the lowest Mallow's Cp value? Which variables are they? Fit this model and call it *model3*. Display the model summary."
   ]
  },
  {
   "cell_type": "code",
   "execution_count": null,
   "id": "lovely-tender",
   "metadata": {
    "lines_to_next_cell": 2
   },
   "outputs": [],
   "source": [
    "set.seed(100)\n",
    "\n",
    "best.model = which(out$Cp==min(out$Cp))\n",
    "cbind(as.matrix(out$which), out$Cp)[best.model,]\n",
    "\n",
    "print(\"6 variables were chosen for the model with the lowest cp and they are:\")\n",
    "names(trainData[c(1, 2, 5, 6, 8, 9)])\n",
    "\n",
    "model3 = lm(logBCF~nHM+piPC09+MLOGP+ON1V+B02.C.N.+F04.C.O., data=trainData)\n",
    "summary(model3)"
   ]
  },
  {
   "cell_type": "markdown",
   "id": "first-distinction",
   "metadata": {},
   "source": [
    "## Question 3: Stepwise Regression\n",
    "\n",
    "(a) Perform backward stepwise regression using BIC. Allow the minimum model to be the model with only an intercept, and the full model to be *model1*. Display the model summary of your final model. Call it *model4*"
   ]
  },
  {
   "cell_type": "code",
   "execution_count": null,
   "id": "romance-appearance",
   "metadata": {
    "lines_to_next_cell": 2
   },
   "outputs": [],
   "source": [
    "set.seed(100)\n",
    "n=nrow(trainData)\n",
    "model4 <- step(model1, scope = list(lower= lm(logBCF~1, data=trainData), upper=model1), direction=\"backward\", k=log(n))\n",
    "\n",
    "summary(model4)"
   ]
  },
  {
   "cell_type": "markdown",
   "id": "experienced-experiment",
   "metadata": {},
   "source": [
    "(b) How many variables are in *model4*? Which regression coefficients are significant at the 99% confidence level?\n"
   ]
  },
  {
   "cell_type": "markdown",
   "id": "f3c54c6d",
   "metadata": {},
   "source": [
    "There are 4 variables in model4. All regression coefficients (nHL, piPC09, MLOGP, F04.C.O.) except for the intercept are statistically significant at 99% confidence interval. "
   ]
  },
  {
   "cell_type": "markdown",
   "id": "passive-telling",
   "metadata": {},
   "source": [
    "(c) Perform forward stepwise selection with AIC. Allow the minimum model to be the model with only an intercept, and the full model to be *model1*. Display the model summary of your final model. Call it *model5*. Do the variables included in *model5* differ from the variables in *model4*? \n"
   ]
  },
  {
   "cell_type": "code",
   "execution_count": null,
   "id": "nominated-seeker",
   "metadata": {
    "lines_to_next_cell": 2
   },
   "outputs": [],
   "source": [
    "set.seed(100)\n",
    "\n",
    "n=nrow(trainData)\n",
    "model5 <- step(lm(logBCF~1, data=trainData), scope = list(lower= lm(logBCF~1, data=trainData), upper=model1), direction=\"forward\")\n",
    "\n",
    "summary(model5)"
   ]
  },
  {
   "cell_type": "markdown",
   "id": "0123bdcb",
   "metadata": {},
   "source": [
    "Yes, the variables chosen using forward regression are different than those in backward regression."
   ]
  },
  {
   "cell_type": "markdown",
   "id": "elder-anaheim",
   "metadata": {},
   "source": [
    "(d) Compare the adjusted $R^2$, Mallow's Cp, AICs and BICs of the full model (*model1*), the model found in Question 2 (*model3*), and the model found using backward selection with BIC (*model4*). Which model is preferred based on these criteria and why?"
   ]
  },
  {
   "cell_type": "code",
   "execution_count": null,
   "id": "minus-repository",
   "metadata": {
    "lines_to_next_cell": 2
   },
   "outputs": [],
   "source": [
    "set.seed(100)\n",
    "\n",
    "c(\"Model\", \"Adjust R2\", \"Cp\", \"AIC\", \"BIC\")\n",
    "c(\"model1\", round(summary(model1)$adj.r.squared, 3), round(Cp(model1, S2=summary(model1)$sigma^2), 3), round(AIC(model1, k=2),3), round(AIC(model1, k=log(n)), 3))\n",
    "c(\"model3\", round(summary(model3)$adj.r.squared, 3), round(Cp(model3, S2=summary(model3)$sigma^2), 3), round(AIC(model3, k=2),3), round(AIC(model3, k=log(n)), 3))\n",
    "c(\"model4\", round(summary(model4)$adj.r.squared, 3), round(Cp(model4, S2=summary(model4)$sigma^2), 3), round(AIC(model4, k=2),3), round(AIC(model4, k=log(n)), 3))"
   ]
  },
  {
   "cell_type": "markdown",
   "id": "5daa62f3",
   "metadata": {},
   "source": [
    "Based on this criteria it is difficult to choose between model3 and model4. Model3 has the highest adjust r-squred signifying it describes the variation in the predictior the most. However model4 has a lower mallows cp and BIC. An additional criteria could be the simplicity of the model where model4 is simpler with 4 predictors while model3 has 6."
   ]
  },
  {
   "cell_type": "markdown",
   "id": "37ff29d5",
   "metadata": {},
   "source": [
    "\n",
    "\n",
    "## Question 4: Ridge Regression\n",
    "\n",
    "(a) Perform ridge regression on the training set. Use cv.glmnet() to find the lambda value that minimizes the cross-validation error using 10 fold CV."
   ]
  },
  {
   "cell_type": "code",
   "execution_count": null,
   "id": "tough-uncle",
   "metadata": {
    "lines_to_next_cell": 2
   },
   "outputs": [],
   "source": [
    "set.seed(100)\n",
    "ridge = cv.glmnet(x=as.matrix(trainData[,-10]), y=trainData$logBCF, alpha=0, nfolds=10, type.measure=\"deviance\")\n"
   ]
  },
  {
   "cell_type": "markdown",
   "id": "close-amendment",
   "metadata": {},
   "source": [
    "(b) List the value of coefficients at the optimum lambda value."
   ]
  },
  {
   "cell_type": "code",
   "execution_count": null,
   "id": "cultural-logging",
   "metadata": {
    "lines_to_next_cell": 2
   },
   "outputs": [],
   "source": [
    "set.seed(100)\n",
    "coef(ridge, s=ridge$lambda.min)"
   ]
  },
  {
   "cell_type": "markdown",
   "id": "political-macintosh",
   "metadata": {},
   "source": [
    "(c) How many variables were selected? Was this result expected? Explain."
   ]
  },
  {
   "cell_type": "markdown",
   "id": "d1733fd9",
   "metadata": {},
   "source": []
  },
  {
   "cell_type": "markdown",
   "id": "public-banner",
   "metadata": {},
   "source": [
    "## Question 5: Lasso Regression"
   ]
  },
  {
   "cell_type": "markdown",
   "id": "intended-patient",
   "metadata": {},
   "source": [
    "(a) Perform lasso regression on the training set.Use cv.glmnet() to find the lambda value that minimizes the cross-validation error using 10 fold CV."
   ]
  },
  {
   "cell_type": "code",
   "execution_count": null,
   "id": "forbidden-residence",
   "metadata": {
    "message": false,
    "warning": false
   },
   "outputs": [],
   "source": [
    "set.seed(100)\n",
    "lasso = cv.glmnet(x=as.matrix(trainData[,-10]), y=trainData$logBCF, alpha=1, nfolds=10)"
   ]
  },
  {
   "cell_type": "markdown",
   "id": "empirical-doctor",
   "metadata": {},
   "source": [
    "(b) Plot the regression coefficient path."
   ]
  },
  {
   "cell_type": "code",
   "execution_count": null,
   "id": "norwegian-procurement",
   "metadata": {
    "lines_to_next_cell": 2
   },
   "outputs": [],
   "source": [
    "set.seed(100)\n",
    "plot(lasso)"
   ]
  },
  {
   "cell_type": "markdown",
   "id": "informed-shadow",
   "metadata": {},
   "source": [
    "(c) How many variables were selected? Which are they?"
   ]
  },
  {
   "cell_type": "code",
   "execution_count": null,
   "id": "several-strike",
   "metadata": {
    "lines_to_next_cell": 0
   },
   "outputs": [],
   "source": [
    "set.seed(100)\n"
   ]
  },
  {
   "cell_type": "markdown",
   "id": "biblical-paris",
   "metadata": {},
   "source": []
  },
  {
   "cell_type": "markdown",
   "id": "human-vintage",
   "metadata": {},
   "source": [
    "## Question 6: Elastic Net\n",
    "\n",
    "(a) Perform elastic net regression on the training set. Use cv.glmnet() to find the lambda value that minimizes the cross-validation error using 10 fold CV. Give equal weight to both penalties."
   ]
  },
  {
   "cell_type": "code",
   "execution_count": null,
   "id": "helpful-extra",
   "metadata": {
    "lines_to_next_cell": 2
   },
   "outputs": [],
   "source": [
    "set.seed(100)\n",
    "\n",
    "en = cv.glmnet(x=as.matrix(trainData[,-10]), y=trainData$logBCF, alpha=0.5, nfolds=10)"
   ]
  },
  {
   "cell_type": "markdown",
   "id": "homeless-onion",
   "metadata": {},
   "source": [
    "(b) List the coefficient values at the optimal lambda. How many variables were selected? How do these variables compare to those from Lasso in Question 5?"
   ]
  },
  {
   "cell_type": "code",
   "execution_count": null,
   "id": "valuable-seattle",
   "metadata": {
    "lines_to_next_cell": 2
   },
   "outputs": [],
   "source": [
    "set.seed(100)\n",
    "coef(en, s=en$lambda.min)"
   ]
  },
  {
   "cell_type": "markdown",
   "id": "stuffed-teacher",
   "metadata": {},
   "source": [
    "## Question 7: Model comparison\n",
    "\n",
    "(a) Predict *logBCF* for each of the rows in the test data using the full model, and the models found using backward stepwise regression with BIC, ridge regression, lasso regression, and elastic net. Display the first few predictions for each model."
   ]
  },
  {
   "cell_type": "code",
   "execution_count": null,
   "id": "limited-taste",
   "metadata": {
    "lines_to_next_cell": 0
   },
   "outputs": [],
   "source": [
    "set.seed(100)\n",
    "\n"
   ]
  },
  {
   "cell_type": "markdown",
   "id": "national-peninsula",
   "metadata": {},
   "source": []
  },
  {
   "cell_type": "markdown",
   "id": "double-permission",
   "metadata": {},
   "source": [
    "(b) Compare the predictions using mean squared prediction error. Which model performed the best?"
   ]
  },
  {
   "cell_type": "code",
   "execution_count": null,
   "id": "western-retirement",
   "metadata": {
    "lines_to_next_cell": 2
   },
   "outputs": [],
   "source": [
    "set.seed(100)\n",
    "\n"
   ]
  },
  {
   "cell_type": "markdown",
   "id": "sophisticated-double",
   "metadata": {},
   "source": [
    "(c) Provide a table listing each method described in Question 7a and the variables selected by each method (see Lesson 5.8 for an example). Which variables were selected consistently?\n"
   ]
  },
  {
   "cell_type": "markdown",
   "id": "determined-collector",
   "metadata": {},
   "source": [
    "|        | Backward Stepwise | Ridge | Lasso  | Elastic Net |\n",
    "|--------|-------------|-------------------|--------|-------|\n",
    "|nHM     |             |                   |        |       |          \n",
    "|piPC09  |             |                   |        |       | \n",
    "|PCD     |             |                   |        |       |        \n",
    "|X2AV    |             |                   |        |       | \n",
    "|MLOGP   |             |                   |        |       | \n",
    "|ON1V    |             |                   |        |       | \n",
    "|N.072   |             |                   |        |       | \n",
    "|B02.C.N.|             |                   |        |       |\n",
    "|F04.C.O.|             |                   |        |       | \n"
   ]
  }
 ],
 "metadata": {
  "jupytext": {
   "cell_metadata_filter": "name,tags,-all",
   "main_language": "R",
   "notebook_metadata_filter": "-all"
  },
  "kernelspec": {
   "display_name": "R",
   "language": "R",
   "name": "ir"
  },
  "language_info": {
   "codemirror_mode": "r",
   "file_extension": ".r",
   "mimetype": "text/x-r-source",
   "name": "R",
   "pygments_lexer": "r",
   "version": "4.0.2"
  }
 },
 "nbformat": 4,
 "nbformat_minor": 5
}
