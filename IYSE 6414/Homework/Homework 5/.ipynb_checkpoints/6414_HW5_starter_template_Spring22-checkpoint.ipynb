{
 "cells": [
  {
   "cell_type": "markdown",
   "id": "classified-greensboro",
   "metadata": {},
   "source": [
    "## Background\n",
    "\n",
    "Selected molecular descriptors from the Dragon chemoinformatics application were used to predict bioconcentration factors for 779 chemicals in order to evaluate QSAR (Quantitative Structure Activity Relationship).  This dataset was obtained from the UCI machine learning repository.\n",
    "\n",
    "The dataset consists of 779 observations of 10 attributes. Below is a brief description of each feature and the response variable (logBCF) in our dataset:\n",
    "\n",
    "1. *nHM* - number of heavy atoms (integer)\n",
    "2. *piPC09* - molecular multiple path count (numeric)\n",
    "3. *PCD* - difference between multiple path count and path count (numeric)\n",
    "4. *X2Av* - average valence connectivity (numeric)\n",
    "5. *MLOGP* - Moriguchi octanol-water partition coefficient (numeric)\n",
    "6. *ON1V* -  overall modified Zagreb index by valence vertex degrees (numeric)\n",
    "7. *N.072* - Frequency of RCO-N< / >N-X=X fragments (integer)\n",
    "8. *B02[C-N]* - Presence/Absence of C-N atom pairs (binary)\n",
    "9. *F04[C-O]* - Frequency of C-O atom pairs (integer)\n",
    "10. *logBCF* - Bioconcentration Factor in log units (numeric)\n",
    "\n",
    "Note that all predictors with the exception of B02[C-N] are quantitative.  For the purpose of this assignment, DO NOT CONVERT B02[C-N] to factor.  Leave the data in its original format - numeric in R.\n",
    "\n",
    "Please load the dataset \"Bio_pred\" and then split the dataset into a train and test set in a 80:20 ratio.\n",
    "\n",
    "Please make sure that you are using R version 3.6.X or above (i.e. version 4.X is also acceptable).\n",
    "\n",
    "## Read Data"
   ]
  },
  {
   "cell_type": "code",
   "execution_count": 1,
   "id": "565bb884",
   "metadata": {},
   "outputs": [
    {
     "name": "stderr",
     "output_type": "stream",
     "text": [
      "inferring 'repos = NULL' from 'pkgs'\n",
      "\n"
     ]
    },
    {
     "name": "stdout",
     "output_type": "stream",
     "text": [
      "\n",
      "The downloaded binary packages are in\n",
      "\t/var/folders/nz/69j_kvq566n6khx_x3dz6y000000gn/T//RtmpwONsaS/downloaded_packages\n"
     ]
    },
    {
     "name": "stderr",
     "output_type": "stream",
     "text": [
      "also installing the dependencies ‘rbenchmark’, ‘pkgKitten’\n",
      "\n",
      "\n"
     ]
    },
    {
     "name": "stdout",
     "output_type": "stream",
     "text": [
      "\n",
      "The downloaded binary packages are in\n",
      "\t/var/folders/nz/69j_kvq566n6khx_x3dz6y000000gn/T//RtmpwONsaS/downloaded_packages\n"
     ]
    }
   ],
   "source": [
    "install.packages(\"https://cran.r-project.org/src/contrib/Archive/CombMSC/CombMSC_1.4.2.1.tar.gz\")\n",
    "install.packages(\"leaps\")\n",
    "install.packages(\"Rcpp\", dependencies=TRUE)"
   ]
  },
  {
   "cell_type": "code",
   "execution_count": 25,
   "id": "developed-excellence",
   "metadata": {
    "message": false,
    "warning": false
   },
   "outputs": [],
   "source": [
    "# Clear variables in memory\n",
    "rm(list=ls())\n",
    "\n",
    "# Import the libraries\n",
    "library(CombMSC)\n",
    "library(boot)\n",
    "library(leaps)\n",
    "library(MASS)\n",
    "library(glmnet)\n",
    "\n",
    "# Ensure that the sampling type is correct\n",
    "RNGkind(sample.kind=\"Rejection\")\n",
    "\n",
    "# Set a seed for reproducibility\n",
    "set.seed(100)\n",
    "\n",
    "# Read data\n",
    "fullData = read.csv(\"Bio_pred.csv\",header=TRUE)\n",
    "\n",
    "# Split data for traIning and testing\n",
    "testRows = sample(nrow(fullData),0.2*nrow(fullData))\n",
    "testData = fullData[testRows, ]\n",
    "trainData = fullData[-testRows, ]"
   ]
  },
  {
   "cell_type": "markdown",
   "id": "080db098",
   "metadata": {},
   "source": [
    "Note: Use the training set to build the models in Questions 1-6. Use the test set to help evaluate model performance in Question 7."
   ]
  },
  {
   "cell_type": "markdown",
   "id": "studied-citation",
   "metadata": {},
   "source": [
    "## Question 1: Full Model\n",
    "\n",
    "(a) Fit a multiple linear regression with the variable *logBCF* as the response and the other variables as predictors. Call it *model1*. Display the model summary."
   ]
  },
  {
   "cell_type": "code",
   "execution_count": 34,
   "id": "liable-stopping",
   "metadata": {
    "lines_to_next_cell": 2
   },
   "outputs": [
    {
     "data": {
      "text/plain": [
       "\n",
       "Call:\n",
       "lm(formula = logBCF ~ ., data = trainData)\n",
       "\n",
       "Residuals:\n",
       "    Min      1Q  Median      3Q     Max \n",
       "-3.2577 -0.5180  0.0448  0.5117  4.0423 \n",
       "\n",
       "Coefficients:\n",
       "             Estimate Std. Error t value Pr(>|t|)    \n",
       "(Intercept)  0.001422   0.138057   0.010  0.99179    \n",
       "nHM          0.137022   0.022462   6.100 1.88e-09 ***\n",
       "piPC09       0.031158   0.020874   1.493  0.13603    \n",
       "PCD          0.055655   0.063874   0.871  0.38391    \n",
       "X2Av        -0.031890   0.253574  -0.126  0.89996    \n",
       "MLOGP        0.506088   0.034211  14.793  < 2e-16 ***\n",
       "ON1V         0.140595   0.066810   2.104  0.03575 *  \n",
       "N.072       -0.073334   0.070993  -1.033  0.30202    \n",
       "B02.C.N.    -0.158231   0.080143  -1.974  0.04879 *  \n",
       "F04.C.O.    -0.030763   0.009667  -3.182  0.00154 ** \n",
       "---\n",
       "Signif. codes:  0 ‘***’ 0.001 ‘**’ 0.01 ‘*’ 0.05 ‘.’ 0.1 ‘ ’ 1\n",
       "\n",
       "Residual standard error: 0.7957 on 614 degrees of freedom\n",
       "Multiple R-squared:  0.6672,\tAdjusted R-squared:  0.6623 \n",
       "F-statistic: 136.8 on 9 and 614 DF,  p-value: < 2.2e-16\n"
      ]
     },
     "metadata": {},
     "output_type": "display_data"
    }
   ],
   "source": [
    "model1 = lm(logBCF~., data=trainData)\n",
    "summary(model1)"
   ]
  },
  {
   "cell_type": "markdown",
   "id": "final-minister",
   "metadata": {},
   "source": [
    "(b) Which regression coefficients are significant at the 95% confidence level? At the 99% confidence level?\n",
    "\n",
    "95%: nHM, MLOGP, ON1V, P02.C.N., F04.C.O\n",
    "99%: nHM, MLOGP, F04.C.O"
   ]
  },
  {
   "cell_type": "markdown",
   "id": "2752a2b0",
   "metadata": {},
   "source": []
  },
  {
   "cell_type": "markdown",
   "id": "changing-effects",
   "metadata": {},
   "source": [
    "(c) What are the Mallow's Cp, AIC, and BIC criterion values for this model?"
   ]
  },
  {
   "cell_type": "code",
   "execution_count": 35,
   "id": "whole-cocktail",
   "metadata": {
    "lines_to_next_cell": 2,
    "message": false,
    "warning": false
   },
   "outputs": [
    {
     "data": {
      "text/html": [
       "<table class=\"dataframe\">\n",
       "<caption>A data.frame: 1 × 3</caption>\n",
       "<thead>\n",
       "\t<tr><th scope=col>MallowsCp</th><th scope=col>AIC</th><th scope=col>BIC</th></tr>\n",
       "\t<tr><th scope=col>&lt;dbl&gt;</th><th scope=col>&lt;dbl&gt;</th><th scope=col>&lt;dbl&gt;</th></tr>\n",
       "</thead>\n",
       "<tbody>\n",
       "\t<tr><td>10</td><td>1497.477</td><td>1546.274</td></tr>\n",
       "</tbody>\n",
       "</table>\n"
      ],
      "text/latex": [
       "A data.frame: 1 × 3\n",
       "\\begin{tabular}{lll}\n",
       " MallowsCp & AIC & BIC\\\\\n",
       " <dbl> & <dbl> & <dbl>\\\\\n",
       "\\hline\n",
       "\t 10 & 1497.477 & 1546.274\\\\\n",
       "\\end{tabular}\n"
      ],
      "text/markdown": [
       "\n",
       "A data.frame: 1 × 3\n",
       "\n",
       "| MallowsCp &lt;dbl&gt; | AIC &lt;dbl&gt; | BIC &lt;dbl&gt; |\n",
       "|---|---|---|\n",
       "| 10 | 1497.477 | 1546.274 |\n",
       "\n"
      ],
      "text/plain": [
       "  MallowsCp AIC      BIC     \n",
       "1 10        1497.477 1546.274"
      ]
     },
     "metadata": {},
     "output_type": "display_data"
    }
   ],
   "source": [
    "set.seed(100)\n",
    "\n",
    "n = nrow(trainData)\n",
    "\n",
    "cp <- Cp(model1, S2=summary(model1)$sigma^2)\n",
    "aic <- AIC(model1, k=2)\n",
    "bic <- AIC(model1, k=log(n))\n",
    "data.frame(MallowsCp=cp, AIC=aic, BIC=bic)\n"
   ]
  },
  {
   "cell_type": "markdown",
   "id": "unusual-nevada",
   "metadata": {},
   "source": [
    "(d) Build a new model on the training data with only the variables which coefficients were found to be statistically significant at the 99% confidence level. Call it *model2*. Perform a Partial F-test to compare this new model (*model2*) with the full model (*model1*). Which one would you prefer? Is it good practice to select variables based on statistical significance of individual coefficients? Explain."
   ]
  },
  {
   "cell_type": "code",
   "execution_count": 36,
   "id": "announced-marijuana",
   "metadata": {
    "lines_to_next_cell": 0
   },
   "outputs": [
    {
     "data": {
      "text/html": [
       "<table class=\"dataframe\">\n",
       "<caption>A anova: 2 × 6</caption>\n",
       "<thead>\n",
       "\t<tr><th></th><th scope=col>Res.Df</th><th scope=col>RSS</th><th scope=col>Df</th><th scope=col>Sum of Sq</th><th scope=col>F</th><th scope=col>Pr(&gt;F)</th></tr>\n",
       "\t<tr><th></th><th scope=col>&lt;dbl&gt;</th><th scope=col>&lt;dbl&gt;</th><th scope=col>&lt;dbl&gt;</th><th scope=col>&lt;dbl&gt;</th><th scope=col>&lt;dbl&gt;</th><th scope=col>&lt;dbl&gt;</th></tr>\n",
       "</thead>\n",
       "<tbody>\n",
       "\t<tr><th scope=row>1</th><td>620</td><td>400.5136</td><td>NA</td><td>      NA</td><td>      NA</td><td>         NA</td></tr>\n",
       "\t<tr><th scope=row>2</th><td>614</td><td>388.7043</td><td> 6</td><td>11.80928</td><td>3.109002</td><td>0.005230363</td></tr>\n",
       "</tbody>\n",
       "</table>\n"
      ],
      "text/latex": [
       "A anova: 2 × 6\n",
       "\\begin{tabular}{r|llllll}\n",
       "  & Res.Df & RSS & Df & Sum of Sq & F & Pr(>F)\\\\\n",
       "  & <dbl> & <dbl> & <dbl> & <dbl> & <dbl> & <dbl>\\\\\n",
       "\\hline\n",
       "\t1 & 620 & 400.5136 & NA &       NA &       NA &          NA\\\\\n",
       "\t2 & 614 & 388.7043 &  6 & 11.80928 & 3.109002 & 0.005230363\\\\\n",
       "\\end{tabular}\n"
      ],
      "text/markdown": [
       "\n",
       "A anova: 2 × 6\n",
       "\n",
       "| <!--/--> | Res.Df &lt;dbl&gt; | RSS &lt;dbl&gt; | Df &lt;dbl&gt; | Sum of Sq &lt;dbl&gt; | F &lt;dbl&gt; | Pr(&gt;F) &lt;dbl&gt; |\n",
       "|---|---|---|---|---|---|---|\n",
       "| 1 | 620 | 400.5136 | NA |       NA |       NA |          NA |\n",
       "| 2 | 614 | 388.7043 |  6 | 11.80928 | 3.109002 | 0.005230363 |\n",
       "\n"
      ],
      "text/plain": [
       "  Res.Df RSS      Df Sum of Sq F        Pr(>F)     \n",
       "1 620    400.5136 NA       NA        NA          NA\n",
       "2 614    388.7043  6 11.80928  3.109002 0.005230363"
      ]
     },
     "metadata": {},
     "output_type": "display_data"
    }
   ],
   "source": [
    "set.seed(100)\n",
    "\n",
    "model2 = lm(logBCF~nHM+MLOGP+F04.C.O., data=trainData)\n",
    "anova(model2, model1)\n"
   ]
  },
  {
   "cell_type": "markdown",
   "id": "powered-south",
   "metadata": {},
   "source": [
    "The p-value is $\\approx 0$ therefore we reject the null hypothesis of the reduced model and conclude that additional variables in the full model are useful. It is not good practice to select variables based on statistical signficance. More advanced preditor selection methods should be used to eliminate predictors."
   ]
  },
  {
   "cell_type": "markdown",
   "id": "nasty-moderator",
   "metadata": {},
   "source": [
    "## Question 2: Full Model Search\n",
    "\n",
    "(a) Compare all possible models using Mallow's Cp. What is the total number of possible models with the full set of variables? Display a table indicating the variables included in the best model of each size and the corresponding Mallow's Cp value. \n",
    "\n",
    "Hint: You can use nbest parameter. "
   ]
  },
  {
   "cell_type": "code",
   "execution_count": 37,
   "id": "opponent-drain",
   "metadata": {
    "lines_to_next_cell": 2,
    "message": false,
    "warning": false
   },
   "outputs": [
    {
     "data": {
      "text/html": [
       "<table class=\"dataframe\">\n",
       "<caption>A matrix: 79 × 10 of type dbl</caption>\n",
       "<thead>\n",
       "\t<tr><th></th><th scope=col>1</th><th scope=col>2</th><th scope=col>3</th><th scope=col>4</th><th scope=col>5</th><th scope=col>6</th><th scope=col>7</th><th scope=col>8</th><th scope=col>9</th><th scope=col></th></tr>\n",
       "</thead>\n",
       "<tbody>\n",
       "\t<tr><th scope=row>1</th><td>0</td><td>0</td><td>0</td><td>0</td><td>1</td><td>0</td><td>0</td><td>0</td><td>0</td><td>  58.596851</td></tr>\n",
       "\t<tr><th scope=row>1</th><td>1</td><td>0</td><td>0</td><td>0</td><td>0</td><td>0</td><td>0</td><td>0</td><td>0</td><td> 821.003439</td></tr>\n",
       "\t<tr><th scope=row>1</th><td>0</td><td>1</td><td>0</td><td>0</td><td>0</td><td>0</td><td>0</td><td>0</td><td>0</td><td> 875.911282</td></tr>\n",
       "\t<tr><th scope=row>1</th><td>0</td><td>0</td><td>1</td><td>0</td><td>0</td><td>0</td><td>0</td><td>0</td><td>0</td><td> 986.721460</td></tr>\n",
       "\t<tr><th scope=row>1</th><td>0</td><td>0</td><td>0</td><td>0</td><td>0</td><td>0</td><td>0</td><td>1</td><td>0</td><td>1004.917654</td></tr>\n",
       "\t<tr><th scope=row>1</th><td>0</td><td>0</td><td>0</td><td>0</td><td>0</td><td>0</td><td>1</td><td>0</td><td>0</td><td>1156.059904</td></tr>\n",
       "\t<tr><th scope=row>1</th><td>0</td><td>0</td><td>0</td><td>0</td><td>0</td><td>1</td><td>0</td><td>0</td><td>0</td><td>1180.996680</td></tr>\n",
       "\t<tr><th scope=row>1</th><td>0</td><td>0</td><td>0</td><td>0</td><td>0</td><td>0</td><td>0</td><td>0</td><td>1</td><td>1192.010393</td></tr>\n",
       "\t<tr><th scope=row>1</th><td>0</td><td>0</td><td>0</td><td>1</td><td>0</td><td>0</td><td>0</td><td>0</td><td>0</td><td>1220.973066</td></tr>\n",
       "\t<tr><th scope=row>2</th><td>1</td><td>0</td><td>0</td><td>0</td><td>1</td><td>0</td><td>0</td><td>0</td><td>0</td><td>  17.737801</td></tr>\n",
       "\t<tr><th scope=row>2</th><td>0</td><td>0</td><td>0</td><td>0</td><td>1</td><td>0</td><td>0</td><td>1</td><td>0</td><td>  53.997513</td></tr>\n",
       "\t<tr><th scope=row>2</th><td>0</td><td>0</td><td>0</td><td>0</td><td>1</td><td>0</td><td>0</td><td>0</td><td>1</td><td>  54.037436</td></tr>\n",
       "\t<tr><th scope=row>2</th><td>0</td><td>0</td><td>0</td><td>1</td><td>1</td><td>0</td><td>0</td><td>0</td><td>0</td><td>  55.412689</td></tr>\n",
       "\t<tr><th scope=row>2</th><td>0</td><td>0</td><td>0</td><td>0</td><td>1</td><td>1</td><td>0</td><td>0</td><td>0</td><td>  56.858903</td></tr>\n",
       "\t<tr><th scope=row>2</th><td>0</td><td>1</td><td>0</td><td>0</td><td>1</td><td>0</td><td>0</td><td>0</td><td>0</td><td>  58.947203</td></tr>\n",
       "\t<tr><th scope=row>2</th><td>0</td><td>0</td><td>0</td><td>0</td><td>1</td><td>0</td><td>1</td><td>0</td><td>0</td><td>  60.204935</td></tr>\n",
       "\t<tr><th scope=row>2</th><td>0</td><td>0</td><td>1</td><td>0</td><td>1</td><td>0</td><td>0</td><td>0</td><td>0</td><td>  60.407567</td></tr>\n",
       "\t<tr><th scope=row>2</th><td>1</td><td>1</td><td>0</td><td>0</td><td>0</td><td>0</td><td>0</td><td>0</td><td>0</td><td> 550.795979</td></tr>\n",
       "\t<tr><th scope=row>2</th><td>1</td><td>0</td><td>1</td><td>0</td><td>0</td><td>0</td><td>0</td><td>0</td><td>0</td><td> 567.222115</td></tr>\n",
       "\t<tr><th scope=row>3</th><td>1</td><td>1</td><td>0</td><td>0</td><td>1</td><td>0</td><td>0</td><td>0</td><td>0</td><td>  15.184626</td></tr>\n",
       "\t<tr><th scope=row>3</th><td>1</td><td>0</td><td>0</td><td>0</td><td>1</td><td>0</td><td>0</td><td>0</td><td>1</td><td>  16.654014</td></tr>\n",
       "\t<tr><th scope=row>3</th><td>1</td><td>0</td><td>0</td><td>0</td><td>1</td><td>0</td><td>0</td><td>1</td><td>0</td><td>  16.686004</td></tr>\n",
       "\t<tr><th scope=row>3</th><td>1</td><td>0</td><td>1</td><td>0</td><td>1</td><td>0</td><td>0</td><td>0</td><td>0</td><td>  17.784159</td></tr>\n",
       "\t<tr><th scope=row>3</th><td>1</td><td>0</td><td>0</td><td>0</td><td>1</td><td>0</td><td>1</td><td>0</td><td>0</td><td>  19.090334</td></tr>\n",
       "\t<tr><th scope=row>3</th><td>1</td><td>0</td><td>0</td><td>0</td><td>1</td><td>1</td><td>0</td><td>0</td><td>0</td><td>  19.214708</td></tr>\n",
       "\t<tr><th scope=row>3</th><td>1</td><td>0</td><td>0</td><td>1</td><td>1</td><td>0</td><td>0</td><td>0</td><td>0</td><td>  19.550838</td></tr>\n",
       "\t<tr><th scope=row>3</th><td>0</td><td>1</td><td>0</td><td>0</td><td>1</td><td>0</td><td>0</td><td>0</td><td>1</td><td>  49.903187</td></tr>\n",
       "\t<tr><th scope=row>3</th><td>0</td><td>1</td><td>0</td><td>0</td><td>1</td><td>0</td><td>0</td><td>1</td><td>0</td><td>  51.654468</td></tr>\n",
       "\t<tr><th scope=row>3</th><td>0</td><td>0</td><td>0</td><td>0</td><td>1</td><td>0</td><td>0</td><td>1</td><td>1</td><td>  51.892920</td></tr>\n",
       "\t<tr><th scope=row>4</th><td>1</td><td>1</td><td>0</td><td>0</td><td>1</td><td>0</td><td>0</td><td>0</td><td>1</td><td>   9.495041</td></tr>\n",
       "\t<tr><th scope=row>⋮</th><td>⋮</td><td>⋮</td><td>⋮</td><td>⋮</td><td>⋮</td><td>⋮</td><td>⋮</td><td>⋮</td><td>⋮</td><td>⋮</td></tr>\n",
       "\t<tr><th scope=row>6</th><td>1</td><td>1</td><td>0</td><td>0</td><td>1</td><td>1</td><td>0</td><td>1</td><td>1</td><td>  6.116174</td></tr>\n",
       "\t<tr><th scope=row>6</th><td>1</td><td>0</td><td>1</td><td>0</td><td>1</td><td>1</td><td>0</td><td>1</td><td>1</td><td>  6.820940</td></tr>\n",
       "\t<tr><th scope=row>6</th><td>1</td><td>1</td><td>0</td><td>0</td><td>1</td><td>1</td><td>1</td><td>0</td><td>1</td><td>  8.147412</td></tr>\n",
       "\t<tr><th scope=row>6</th><td>1</td><td>1</td><td>0</td><td>0</td><td>1</td><td>0</td><td>1</td><td>1</td><td>1</td><td>  8.642006</td></tr>\n",
       "\t<tr><th scope=row>6</th><td>1</td><td>1</td><td>0</td><td>1</td><td>1</td><td>0</td><td>0</td><td>1</td><td>1</td><td>  9.042626</td></tr>\n",
       "\t<tr><th scope=row>6</th><td>1</td><td>1</td><td>1</td><td>0</td><td>1</td><td>0</td><td>0</td><td>1</td><td>1</td><td>  9.240749</td></tr>\n",
       "\t<tr><th scope=row>6</th><td>1</td><td>1</td><td>1</td><td>0</td><td>1</td><td>1</td><td>0</td><td>0</td><td>1</td><td> 10.665490</td></tr>\n",
       "\t<tr><th scope=row>6</th><td>1</td><td>1</td><td>0</td><td>1</td><td>1</td><td>1</td><td>0</td><td>0</td><td>1</td><td> 10.746628</td></tr>\n",
       "\t<tr><th scope=row>6</th><td>1</td><td>0</td><td>1</td><td>0</td><td>1</td><td>1</td><td>1</td><td>0</td><td>1</td><td> 10.865153</td></tr>\n",
       "\t<tr><th scope=row>6</th><td>1</td><td>1</td><td>0</td><td>1</td><td>1</td><td>0</td><td>1</td><td>0</td><td>1</td><td> 11.090540</td></tr>\n",
       "\t<tr><th scope=row>7</th><td>1</td><td>1</td><td>0</td><td>0</td><td>1</td><td>1</td><td>1</td><td>1</td><td>1</td><td>  6.831852</td></tr>\n",
       "\t<tr><th scope=row>7</th><td>1</td><td>1</td><td>1</td><td>0</td><td>1</td><td>1</td><td>0</td><td>1</td><td>1</td><td>  7.069867</td></tr>\n",
       "\t<tr><th scope=row>7</th><td>1</td><td>1</td><td>0</td><td>1</td><td>1</td><td>1</td><td>0</td><td>1</td><td>1</td><td>  8.072045</td></tr>\n",
       "\t<tr><th scope=row>7</th><td>1</td><td>0</td><td>1</td><td>0</td><td>1</td><td>1</td><td>1</td><td>1</td><td>1</td><td>  8.263250</td></tr>\n",
       "\t<tr><th scope=row>7</th><td>1</td><td>0</td><td>1</td><td>1</td><td>1</td><td>1</td><td>0</td><td>1</td><td>1</td><td>  8.804787</td></tr>\n",
       "\t<tr><th scope=row>7</th><td>1</td><td>1</td><td>1</td><td>0</td><td>1</td><td>1</td><td>1</td><td>0</td><td>1</td><td>  9.980191</td></tr>\n",
       "\t<tr><th scope=row>7</th><td>1</td><td>1</td><td>0</td><td>1</td><td>1</td><td>1</td><td>1</td><td>0</td><td>1</td><td> 10.110409</td></tr>\n",
       "\t<tr><th scope=row>7</th><td>1</td><td>1</td><td>0</td><td>1</td><td>1</td><td>0</td><td>1</td><td>1</td><td>1</td><td> 10.428510</td></tr>\n",
       "\t<tr><th scope=row>7</th><td>1</td><td>1</td><td>1</td><td>0</td><td>1</td><td>0</td><td>1</td><td>1</td><td>1</td><td> 10.620322</td></tr>\n",
       "\t<tr><th scope=row>7</th><td>1</td><td>1</td><td>1</td><td>1</td><td>1</td><td>0</td><td>0</td><td>1</td><td>1</td><td> 11.021592</td></tr>\n",
       "\t<tr><th scope=row>8</th><td>1</td><td>1</td><td>1</td><td>0</td><td>1</td><td>1</td><td>1</td><td>1</td><td>1</td><td>  8.015816</td></tr>\n",
       "\t<tr><th scope=row>8</th><td>1</td><td>1</td><td>0</td><td>1</td><td>1</td><td>1</td><td>1</td><td>1</td><td>1</td><td>  8.759216</td></tr>\n",
       "\t<tr><th scope=row>8</th><td>1</td><td>1</td><td>1</td><td>1</td><td>1</td><td>1</td><td>0</td><td>1</td><td>1</td><td>  9.067038</td></tr>\n",
       "\t<tr><th scope=row>8</th><td>1</td><td>0</td><td>1</td><td>1</td><td>1</td><td>1</td><td>1</td><td>1</td><td>1</td><td> 10.228149</td></tr>\n",
       "\t<tr><th scope=row>8</th><td>1</td><td>1</td><td>1</td><td>1</td><td>1</td><td>1</td><td>1</td><td>0</td><td>1</td><td> 11.898038</td></tr>\n",
       "\t<tr><th scope=row>8</th><td>1</td><td>1</td><td>1</td><td>1</td><td>1</td><td>0</td><td>1</td><td>1</td><td>1</td><td> 12.428478</td></tr>\n",
       "\t<tr><th scope=row>8</th><td>1</td><td>1</td><td>1</td><td>1</td><td>1</td><td>1</td><td>1</td><td>1</td><td>0</td><td> 18.126038</td></tr>\n",
       "\t<tr><th scope=row>8</th><td>0</td><td>1</td><td>1</td><td>1</td><td>1</td><td>1</td><td>1</td><td>1</td><td>1</td><td> 45.211381</td></tr>\n",
       "\t<tr><th scope=row>8</th><td>1</td><td>1</td><td>1</td><td>1</td><td>0</td><td>1</td><td>1</td><td>1</td><td>1</td><td>226.837691</td></tr>\n",
       "\t<tr><th scope=row>9</th><td>1</td><td>1</td><td>1</td><td>1</td><td>1</td><td>1</td><td>1</td><td>1</td><td>1</td><td> 10.000000</td></tr>\n",
       "</tbody>\n",
       "</table>\n"
      ],
      "text/latex": [
       "A matrix: 79 × 10 of type dbl\n",
       "\\begin{tabular}{r|llllllllll}\n",
       "  & 1 & 2 & 3 & 4 & 5 & 6 & 7 & 8 & 9 & \\\\\n",
       "\\hline\n",
       "\t1 & 0 & 0 & 0 & 0 & 1 & 0 & 0 & 0 & 0 &   58.596851\\\\\n",
       "\t1 & 1 & 0 & 0 & 0 & 0 & 0 & 0 & 0 & 0 &  821.003439\\\\\n",
       "\t1 & 0 & 1 & 0 & 0 & 0 & 0 & 0 & 0 & 0 &  875.911282\\\\\n",
       "\t1 & 0 & 0 & 1 & 0 & 0 & 0 & 0 & 0 & 0 &  986.721460\\\\\n",
       "\t1 & 0 & 0 & 0 & 0 & 0 & 0 & 0 & 1 & 0 & 1004.917654\\\\\n",
       "\t1 & 0 & 0 & 0 & 0 & 0 & 0 & 1 & 0 & 0 & 1156.059904\\\\\n",
       "\t1 & 0 & 0 & 0 & 0 & 0 & 1 & 0 & 0 & 0 & 1180.996680\\\\\n",
       "\t1 & 0 & 0 & 0 & 0 & 0 & 0 & 0 & 0 & 1 & 1192.010393\\\\\n",
       "\t1 & 0 & 0 & 0 & 1 & 0 & 0 & 0 & 0 & 0 & 1220.973066\\\\\n",
       "\t2 & 1 & 0 & 0 & 0 & 1 & 0 & 0 & 0 & 0 &   17.737801\\\\\n",
       "\t2 & 0 & 0 & 0 & 0 & 1 & 0 & 0 & 1 & 0 &   53.997513\\\\\n",
       "\t2 & 0 & 0 & 0 & 0 & 1 & 0 & 0 & 0 & 1 &   54.037436\\\\\n",
       "\t2 & 0 & 0 & 0 & 1 & 1 & 0 & 0 & 0 & 0 &   55.412689\\\\\n",
       "\t2 & 0 & 0 & 0 & 0 & 1 & 1 & 0 & 0 & 0 &   56.858903\\\\\n",
       "\t2 & 0 & 1 & 0 & 0 & 1 & 0 & 0 & 0 & 0 &   58.947203\\\\\n",
       "\t2 & 0 & 0 & 0 & 0 & 1 & 0 & 1 & 0 & 0 &   60.204935\\\\\n",
       "\t2 & 0 & 0 & 1 & 0 & 1 & 0 & 0 & 0 & 0 &   60.407567\\\\\n",
       "\t2 & 1 & 1 & 0 & 0 & 0 & 0 & 0 & 0 & 0 &  550.795979\\\\\n",
       "\t2 & 1 & 0 & 1 & 0 & 0 & 0 & 0 & 0 & 0 &  567.222115\\\\\n",
       "\t3 & 1 & 1 & 0 & 0 & 1 & 0 & 0 & 0 & 0 &   15.184626\\\\\n",
       "\t3 & 1 & 0 & 0 & 0 & 1 & 0 & 0 & 0 & 1 &   16.654014\\\\\n",
       "\t3 & 1 & 0 & 0 & 0 & 1 & 0 & 0 & 1 & 0 &   16.686004\\\\\n",
       "\t3 & 1 & 0 & 1 & 0 & 1 & 0 & 0 & 0 & 0 &   17.784159\\\\\n",
       "\t3 & 1 & 0 & 0 & 0 & 1 & 0 & 1 & 0 & 0 &   19.090334\\\\\n",
       "\t3 & 1 & 0 & 0 & 0 & 1 & 1 & 0 & 0 & 0 &   19.214708\\\\\n",
       "\t3 & 1 & 0 & 0 & 1 & 1 & 0 & 0 & 0 & 0 &   19.550838\\\\\n",
       "\t3 & 0 & 1 & 0 & 0 & 1 & 0 & 0 & 0 & 1 &   49.903187\\\\\n",
       "\t3 & 0 & 1 & 0 & 0 & 1 & 0 & 0 & 1 & 0 &   51.654468\\\\\n",
       "\t3 & 0 & 0 & 0 & 0 & 1 & 0 & 0 & 1 & 1 &   51.892920\\\\\n",
       "\t4 & 1 & 1 & 0 & 0 & 1 & 0 & 0 & 0 & 1 &    9.495041\\\\\n",
       "\t⋮ & ⋮ & ⋮ & ⋮ & ⋮ & ⋮ & ⋮ & ⋮ & ⋮ & ⋮ & ⋮\\\\\n",
       "\t6 & 1 & 1 & 0 & 0 & 1 & 1 & 0 & 1 & 1 &   6.116174\\\\\n",
       "\t6 & 1 & 0 & 1 & 0 & 1 & 1 & 0 & 1 & 1 &   6.820940\\\\\n",
       "\t6 & 1 & 1 & 0 & 0 & 1 & 1 & 1 & 0 & 1 &   8.147412\\\\\n",
       "\t6 & 1 & 1 & 0 & 0 & 1 & 0 & 1 & 1 & 1 &   8.642006\\\\\n",
       "\t6 & 1 & 1 & 0 & 1 & 1 & 0 & 0 & 1 & 1 &   9.042626\\\\\n",
       "\t6 & 1 & 1 & 1 & 0 & 1 & 0 & 0 & 1 & 1 &   9.240749\\\\\n",
       "\t6 & 1 & 1 & 1 & 0 & 1 & 1 & 0 & 0 & 1 &  10.665490\\\\\n",
       "\t6 & 1 & 1 & 0 & 1 & 1 & 1 & 0 & 0 & 1 &  10.746628\\\\\n",
       "\t6 & 1 & 0 & 1 & 0 & 1 & 1 & 1 & 0 & 1 &  10.865153\\\\\n",
       "\t6 & 1 & 1 & 0 & 1 & 1 & 0 & 1 & 0 & 1 &  11.090540\\\\\n",
       "\t7 & 1 & 1 & 0 & 0 & 1 & 1 & 1 & 1 & 1 &   6.831852\\\\\n",
       "\t7 & 1 & 1 & 1 & 0 & 1 & 1 & 0 & 1 & 1 &   7.069867\\\\\n",
       "\t7 & 1 & 1 & 0 & 1 & 1 & 1 & 0 & 1 & 1 &   8.072045\\\\\n",
       "\t7 & 1 & 0 & 1 & 0 & 1 & 1 & 1 & 1 & 1 &   8.263250\\\\\n",
       "\t7 & 1 & 0 & 1 & 1 & 1 & 1 & 0 & 1 & 1 &   8.804787\\\\\n",
       "\t7 & 1 & 1 & 1 & 0 & 1 & 1 & 1 & 0 & 1 &   9.980191\\\\\n",
       "\t7 & 1 & 1 & 0 & 1 & 1 & 1 & 1 & 0 & 1 &  10.110409\\\\\n",
       "\t7 & 1 & 1 & 0 & 1 & 1 & 0 & 1 & 1 & 1 &  10.428510\\\\\n",
       "\t7 & 1 & 1 & 1 & 0 & 1 & 0 & 1 & 1 & 1 &  10.620322\\\\\n",
       "\t7 & 1 & 1 & 1 & 1 & 1 & 0 & 0 & 1 & 1 &  11.021592\\\\\n",
       "\t8 & 1 & 1 & 1 & 0 & 1 & 1 & 1 & 1 & 1 &   8.015816\\\\\n",
       "\t8 & 1 & 1 & 0 & 1 & 1 & 1 & 1 & 1 & 1 &   8.759216\\\\\n",
       "\t8 & 1 & 1 & 1 & 1 & 1 & 1 & 0 & 1 & 1 &   9.067038\\\\\n",
       "\t8 & 1 & 0 & 1 & 1 & 1 & 1 & 1 & 1 & 1 &  10.228149\\\\\n",
       "\t8 & 1 & 1 & 1 & 1 & 1 & 1 & 1 & 0 & 1 &  11.898038\\\\\n",
       "\t8 & 1 & 1 & 1 & 1 & 1 & 0 & 1 & 1 & 1 &  12.428478\\\\\n",
       "\t8 & 1 & 1 & 1 & 1 & 1 & 1 & 1 & 1 & 0 &  18.126038\\\\\n",
       "\t8 & 0 & 1 & 1 & 1 & 1 & 1 & 1 & 1 & 1 &  45.211381\\\\\n",
       "\t8 & 1 & 1 & 1 & 1 & 0 & 1 & 1 & 1 & 1 & 226.837691\\\\\n",
       "\t9 & 1 & 1 & 1 & 1 & 1 & 1 & 1 & 1 & 1 &  10.000000\\\\\n",
       "\\end{tabular}\n"
      ],
      "text/markdown": [
       "\n",
       "A matrix: 79 × 10 of type dbl\n",
       "\n",
       "| <!--/--> | 1 | 2 | 3 | 4 | 5 | 6 | 7 | 8 | 9 | <!----> |\n",
       "|---|---|---|---|---|---|---|---|---|---|---|\n",
       "| 1 | 0 | 0 | 0 | 0 | 1 | 0 | 0 | 0 | 0 |   58.596851 |\n",
       "| 1 | 1 | 0 | 0 | 0 | 0 | 0 | 0 | 0 | 0 |  821.003439 |\n",
       "| 1 | 0 | 1 | 0 | 0 | 0 | 0 | 0 | 0 | 0 |  875.911282 |\n",
       "| 1 | 0 | 0 | 1 | 0 | 0 | 0 | 0 | 0 | 0 |  986.721460 |\n",
       "| 1 | 0 | 0 | 0 | 0 | 0 | 0 | 0 | 1 | 0 | 1004.917654 |\n",
       "| 1 | 0 | 0 | 0 | 0 | 0 | 0 | 1 | 0 | 0 | 1156.059904 |\n",
       "| 1 | 0 | 0 | 0 | 0 | 0 | 1 | 0 | 0 | 0 | 1180.996680 |\n",
       "| 1 | 0 | 0 | 0 | 0 | 0 | 0 | 0 | 0 | 1 | 1192.010393 |\n",
       "| 1 | 0 | 0 | 0 | 1 | 0 | 0 | 0 | 0 | 0 | 1220.973066 |\n",
       "| 2 | 1 | 0 | 0 | 0 | 1 | 0 | 0 | 0 | 0 |   17.737801 |\n",
       "| 2 | 0 | 0 | 0 | 0 | 1 | 0 | 0 | 1 | 0 |   53.997513 |\n",
       "| 2 | 0 | 0 | 0 | 0 | 1 | 0 | 0 | 0 | 1 |   54.037436 |\n",
       "| 2 | 0 | 0 | 0 | 1 | 1 | 0 | 0 | 0 | 0 |   55.412689 |\n",
       "| 2 | 0 | 0 | 0 | 0 | 1 | 1 | 0 | 0 | 0 |   56.858903 |\n",
       "| 2 | 0 | 1 | 0 | 0 | 1 | 0 | 0 | 0 | 0 |   58.947203 |\n",
       "| 2 | 0 | 0 | 0 | 0 | 1 | 0 | 1 | 0 | 0 |   60.204935 |\n",
       "| 2 | 0 | 0 | 1 | 0 | 1 | 0 | 0 | 0 | 0 |   60.407567 |\n",
       "| 2 | 1 | 1 | 0 | 0 | 0 | 0 | 0 | 0 | 0 |  550.795979 |\n",
       "| 2 | 1 | 0 | 1 | 0 | 0 | 0 | 0 | 0 | 0 |  567.222115 |\n",
       "| 3 | 1 | 1 | 0 | 0 | 1 | 0 | 0 | 0 | 0 |   15.184626 |\n",
       "| 3 | 1 | 0 | 0 | 0 | 1 | 0 | 0 | 0 | 1 |   16.654014 |\n",
       "| 3 | 1 | 0 | 0 | 0 | 1 | 0 | 0 | 1 | 0 |   16.686004 |\n",
       "| 3 | 1 | 0 | 1 | 0 | 1 | 0 | 0 | 0 | 0 |   17.784159 |\n",
       "| 3 | 1 | 0 | 0 | 0 | 1 | 0 | 1 | 0 | 0 |   19.090334 |\n",
       "| 3 | 1 | 0 | 0 | 0 | 1 | 1 | 0 | 0 | 0 |   19.214708 |\n",
       "| 3 | 1 | 0 | 0 | 1 | 1 | 0 | 0 | 0 | 0 |   19.550838 |\n",
       "| 3 | 0 | 1 | 0 | 0 | 1 | 0 | 0 | 0 | 1 |   49.903187 |\n",
       "| 3 | 0 | 1 | 0 | 0 | 1 | 0 | 0 | 1 | 0 |   51.654468 |\n",
       "| 3 | 0 | 0 | 0 | 0 | 1 | 0 | 0 | 1 | 1 |   51.892920 |\n",
       "| 4 | 1 | 1 | 0 | 0 | 1 | 0 | 0 | 0 | 1 |    9.495041 |\n",
       "| ⋮ | ⋮ | ⋮ | ⋮ | ⋮ | ⋮ | ⋮ | ⋮ | ⋮ | ⋮ | ⋮ |\n",
       "| 6 | 1 | 1 | 0 | 0 | 1 | 1 | 0 | 1 | 1 |   6.116174 |\n",
       "| 6 | 1 | 0 | 1 | 0 | 1 | 1 | 0 | 1 | 1 |   6.820940 |\n",
       "| 6 | 1 | 1 | 0 | 0 | 1 | 1 | 1 | 0 | 1 |   8.147412 |\n",
       "| 6 | 1 | 1 | 0 | 0 | 1 | 0 | 1 | 1 | 1 |   8.642006 |\n",
       "| 6 | 1 | 1 | 0 | 1 | 1 | 0 | 0 | 1 | 1 |   9.042626 |\n",
       "| 6 | 1 | 1 | 1 | 0 | 1 | 0 | 0 | 1 | 1 |   9.240749 |\n",
       "| 6 | 1 | 1 | 1 | 0 | 1 | 1 | 0 | 0 | 1 |  10.665490 |\n",
       "| 6 | 1 | 1 | 0 | 1 | 1 | 1 | 0 | 0 | 1 |  10.746628 |\n",
       "| 6 | 1 | 0 | 1 | 0 | 1 | 1 | 1 | 0 | 1 |  10.865153 |\n",
       "| 6 | 1 | 1 | 0 | 1 | 1 | 0 | 1 | 0 | 1 |  11.090540 |\n",
       "| 7 | 1 | 1 | 0 | 0 | 1 | 1 | 1 | 1 | 1 |   6.831852 |\n",
       "| 7 | 1 | 1 | 1 | 0 | 1 | 1 | 0 | 1 | 1 |   7.069867 |\n",
       "| 7 | 1 | 1 | 0 | 1 | 1 | 1 | 0 | 1 | 1 |   8.072045 |\n",
       "| 7 | 1 | 0 | 1 | 0 | 1 | 1 | 1 | 1 | 1 |   8.263250 |\n",
       "| 7 | 1 | 0 | 1 | 1 | 1 | 1 | 0 | 1 | 1 |   8.804787 |\n",
       "| 7 | 1 | 1 | 1 | 0 | 1 | 1 | 1 | 0 | 1 |   9.980191 |\n",
       "| 7 | 1 | 1 | 0 | 1 | 1 | 1 | 1 | 0 | 1 |  10.110409 |\n",
       "| 7 | 1 | 1 | 0 | 1 | 1 | 0 | 1 | 1 | 1 |  10.428510 |\n",
       "| 7 | 1 | 1 | 1 | 0 | 1 | 0 | 1 | 1 | 1 |  10.620322 |\n",
       "| 7 | 1 | 1 | 1 | 1 | 1 | 0 | 0 | 1 | 1 |  11.021592 |\n",
       "| 8 | 1 | 1 | 1 | 0 | 1 | 1 | 1 | 1 | 1 |   8.015816 |\n",
       "| 8 | 1 | 1 | 0 | 1 | 1 | 1 | 1 | 1 | 1 |   8.759216 |\n",
       "| 8 | 1 | 1 | 1 | 1 | 1 | 1 | 0 | 1 | 1 |   9.067038 |\n",
       "| 8 | 1 | 0 | 1 | 1 | 1 | 1 | 1 | 1 | 1 |  10.228149 |\n",
       "| 8 | 1 | 1 | 1 | 1 | 1 | 1 | 1 | 0 | 1 |  11.898038 |\n",
       "| 8 | 1 | 1 | 1 | 1 | 1 | 0 | 1 | 1 | 1 |  12.428478 |\n",
       "| 8 | 1 | 1 | 1 | 1 | 1 | 1 | 1 | 1 | 0 |  18.126038 |\n",
       "| 8 | 0 | 1 | 1 | 1 | 1 | 1 | 1 | 1 | 1 |  45.211381 |\n",
       "| 8 | 1 | 1 | 1 | 1 | 0 | 1 | 1 | 1 | 1 | 226.837691 |\n",
       "| 9 | 1 | 1 | 1 | 1 | 1 | 1 | 1 | 1 | 1 |  10.000000 |\n",
       "\n"
      ],
      "text/plain": [
       "  1 2 3 4 5 6 7 8 9            \n",
       "1 0 0 0 0 1 0 0 0 0   58.596851\n",
       "1 1 0 0 0 0 0 0 0 0  821.003439\n",
       "1 0 1 0 0 0 0 0 0 0  875.911282\n",
       "1 0 0 1 0 0 0 0 0 0  986.721460\n",
       "1 0 0 0 0 0 0 0 1 0 1004.917654\n",
       "1 0 0 0 0 0 0 1 0 0 1156.059904\n",
       "1 0 0 0 0 0 1 0 0 0 1180.996680\n",
       "1 0 0 0 0 0 0 0 0 1 1192.010393\n",
       "1 0 0 0 1 0 0 0 0 0 1220.973066\n",
       "2 1 0 0 0 1 0 0 0 0   17.737801\n",
       "2 0 0 0 0 1 0 0 1 0   53.997513\n",
       "2 0 0 0 0 1 0 0 0 1   54.037436\n",
       "2 0 0 0 1 1 0 0 0 0   55.412689\n",
       "2 0 0 0 0 1 1 0 0 0   56.858903\n",
       "2 0 1 0 0 1 0 0 0 0   58.947203\n",
       "2 0 0 0 0 1 0 1 0 0   60.204935\n",
       "2 0 0 1 0 1 0 0 0 0   60.407567\n",
       "2 1 1 0 0 0 0 0 0 0  550.795979\n",
       "2 1 0 1 0 0 0 0 0 0  567.222115\n",
       "3 1 1 0 0 1 0 0 0 0   15.184626\n",
       "3 1 0 0 0 1 0 0 0 1   16.654014\n",
       "3 1 0 0 0 1 0 0 1 0   16.686004\n",
       "3 1 0 1 0 1 0 0 0 0   17.784159\n",
       "3 1 0 0 0 1 0 1 0 0   19.090334\n",
       "3 1 0 0 0 1 1 0 0 0   19.214708\n",
       "3 1 0 0 1 1 0 0 0 0   19.550838\n",
       "3 0 1 0 0 1 0 0 0 1   49.903187\n",
       "3 0 1 0 0 1 0 0 1 0   51.654468\n",
       "3 0 0 0 0 1 0 0 1 1   51.892920\n",
       "4 1 1 0 0 1 0 0 0 1    9.495041\n",
       "⋮ ⋮ ⋮ ⋮ ⋮ ⋮ ⋮ ⋮ ⋮ ⋮ ⋮          \n",
       "6 1 1 0 0 1 1 0 1 1   6.116174 \n",
       "6 1 0 1 0 1 1 0 1 1   6.820940 \n",
       "6 1 1 0 0 1 1 1 0 1   8.147412 \n",
       "6 1 1 0 0 1 0 1 1 1   8.642006 \n",
       "6 1 1 0 1 1 0 0 1 1   9.042626 \n",
       "6 1 1 1 0 1 0 0 1 1   9.240749 \n",
       "6 1 1 1 0 1 1 0 0 1  10.665490 \n",
       "6 1 1 0 1 1 1 0 0 1  10.746628 \n",
       "6 1 0 1 0 1 1 1 0 1  10.865153 \n",
       "6 1 1 0 1 1 0 1 0 1  11.090540 \n",
       "7 1 1 0 0 1 1 1 1 1   6.831852 \n",
       "7 1 1 1 0 1 1 0 1 1   7.069867 \n",
       "7 1 1 0 1 1 1 0 1 1   8.072045 \n",
       "7 1 0 1 0 1 1 1 1 1   8.263250 \n",
       "7 1 0 1 1 1 1 0 1 1   8.804787 \n",
       "7 1 1 1 0 1 1 1 0 1   9.980191 \n",
       "7 1 1 0 1 1 1 1 0 1  10.110409 \n",
       "7 1 1 0 1 1 0 1 1 1  10.428510 \n",
       "7 1 1 1 0 1 0 1 1 1  10.620322 \n",
       "7 1 1 1 1 1 0 0 1 1  11.021592 \n",
       "8 1 1 1 0 1 1 1 1 1   8.015816 \n",
       "8 1 1 0 1 1 1 1 1 1   8.759216 \n",
       "8 1 1 1 1 1 1 0 1 1   9.067038 \n",
       "8 1 0 1 1 1 1 1 1 1  10.228149 \n",
       "8 1 1 1 1 1 1 1 0 1  11.898038 \n",
       "8 1 1 1 1 1 0 1 1 1  12.428478 \n",
       "8 1 1 1 1 1 1 1 1 0  18.126038 \n",
       "8 0 1 1 1 1 1 1 1 1  45.211381 \n",
       "8 1 1 1 1 0 1 1 1 1 226.837691 \n",
       "9 1 1 1 1 1 1 1 1 1  10.000000 "
      ]
     },
     "metadata": {},
     "output_type": "display_data"
    }
   ],
   "source": [
    "set.seed(100)\n",
    "\n",
    "out = leaps(trainData[,-c(10)], trainData$logBCF, method=\"Cp\")\n",
    "cbind(as.matrix(out$which), out$Cp)"
   ]
  },
  {
   "cell_type": "markdown",
   "id": "martial-scanning",
   "metadata": {},
   "source": [
    "(b) How many variables are in the model with the lowest Mallow's Cp value? Which variables are they? Fit this model and call it *model3*. Display the model summary."
   ]
  },
  {
   "cell_type": "code",
   "execution_count": 38,
   "id": "lovely-tender",
   "metadata": {
    "lines_to_next_cell": 2
   },
   "outputs": [
    {
     "data": {
      "text/html": [
       "<style>\n",
       ".dl-inline {width: auto; margin:0; padding: 0}\n",
       ".dl-inline>dt, .dl-inline>dd {float: none; width: auto; display: inline-block}\n",
       ".dl-inline>dt::after {content: \":\\0020\"; padding-right: .5ex}\n",
       ".dl-inline>dt:not(:first-of-type) {padding-left: .5ex}\n",
       "</style><dl class=dl-inline><dt>1</dt><dd>1</dd><dt>2</dt><dd>1</dd><dt>3</dt><dd>0</dd><dt>4</dt><dd>0</dd><dt>5</dt><dd>1</dd><dt>6</dt><dd>1</dd><dt>7</dt><dd>0</dd><dt>8</dt><dd>1</dd><dt>9</dt><dd>1</dd><dt>10</dt><dd>6.11617365720781</dd></dl>\n"
      ],
      "text/latex": [
       "\\begin{description*}\n",
       "\\item[1] 1\n",
       "\\item[2] 1\n",
       "\\item[3] 0\n",
       "\\item[4] 0\n",
       "\\item[5] 1\n",
       "\\item[6] 1\n",
       "\\item[7] 0\n",
       "\\item[8] 1\n",
       "\\item[9] 1\n",
       "\\item[10] 6.11617365720781\n",
       "\\end{description*}\n"
      ],
      "text/markdown": [
       "1\n",
       ":   12\n",
       ":   13\n",
       ":   04\n",
       ":   05\n",
       ":   16\n",
       ":   17\n",
       ":   08\n",
       ":   19\n",
       ":   110\n",
       ":   6.11617365720781\n",
       "\n"
      ],
      "text/plain": [
       "       1        2        3        4        5        6        7        8 \n",
       "1.000000 1.000000 0.000000 0.000000 1.000000 1.000000 0.000000 1.000000 \n",
       "       9          \n",
       "1.000000 6.116174 "
      ]
     },
     "metadata": {},
     "output_type": "display_data"
    },
    {
     "name": "stdout",
     "output_type": "stream",
     "text": [
      "[1] \"6 variables were chosen for the model with the lowest cp and they are:\"\n"
     ]
    },
    {
     "data": {
      "text/html": [
       "<style>\n",
       ".list-inline {list-style: none; margin:0; padding: 0}\n",
       ".list-inline>li {display: inline-block}\n",
       ".list-inline>li:not(:last-child)::after {content: \"\\00b7\"; padding: 0 .5ex}\n",
       "</style>\n",
       "<ol class=list-inline><li>'nHM'</li><li>'piPC09'</li><li>'MLOGP'</li><li>'ON1V'</li><li>'B02.C.N.'</li><li>'F04.C.O.'</li></ol>\n"
      ],
      "text/latex": [
       "\\begin{enumerate*}\n",
       "\\item 'nHM'\n",
       "\\item 'piPC09'\n",
       "\\item 'MLOGP'\n",
       "\\item 'ON1V'\n",
       "\\item 'B02.C.N.'\n",
       "\\item 'F04.C.O.'\n",
       "\\end{enumerate*}\n"
      ],
      "text/markdown": [
       "1. 'nHM'\n",
       "2. 'piPC09'\n",
       "3. 'MLOGP'\n",
       "4. 'ON1V'\n",
       "5. 'B02.C.N.'\n",
       "6. 'F04.C.O.'\n",
       "\n",
       "\n"
      ],
      "text/plain": [
       "[1] \"nHM\"      \"piPC09\"   \"MLOGP\"    \"ON1V\"     \"B02.C.N.\" \"F04.C.O.\""
      ]
     },
     "metadata": {},
     "output_type": "display_data"
    },
    {
     "data": {
      "text/plain": [
       "\n",
       "Call:\n",
       "lm(formula = logBCF ~ nHM + piPC09 + MLOGP + ON1V + B02.C.N. + \n",
       "    F04.C.O., data = trainData)\n",
       "\n",
       "Residuals:\n",
       "    Min      1Q  Median      3Q     Max \n",
       "-3.2364 -0.5234  0.0421  0.5196  4.1159 \n",
       "\n",
       "Coefficients:\n",
       "             Estimate Std. Error t value Pr(>|t|)    \n",
       "(Intercept)  0.035785   0.099454   0.360  0.71911    \n",
       "nHM          0.124086   0.019083   6.502 1.63e-10 ***\n",
       "piPC09       0.042167   0.014135   2.983  0.00297 ** \n",
       "MLOGP        0.528522   0.029434  17.956  < 2e-16 ***\n",
       "ON1V         0.098099   0.055457   1.769  0.07740 .  \n",
       "B02.C.N.    -0.160204   0.073225  -2.188  0.02906 *  \n",
       "F04.C.O.    -0.028644   0.009415  -3.042  0.00245 ** \n",
       "---\n",
       "Signif. codes:  0 ‘***’ 0.001 ‘**’ 0.01 ‘*’ 0.05 ‘.’ 0.1 ‘ ’ 1\n",
       "\n",
       "Residual standard error: 0.7951 on 617 degrees of freedom\n",
       "Multiple R-squared:  0.666,\tAdjusted R-squared:  0.6628 \n",
       "F-statistic: 205.1 on 6 and 617 DF,  p-value: < 2.2e-16\n"
      ]
     },
     "metadata": {},
     "output_type": "display_data"
    }
   ],
   "source": [
    "set.seed(100)\n",
    "\n",
    "best.model = which(out$Cp==min(out$Cp))\n",
    "cbind(as.matrix(out$which), out$Cp)[best.model,]\n",
    "\n",
    "print(\"6 variables were chosen for the model with the lowest cp and they are:\")\n",
    "names(trainData[c(1, 2, 5, 6, 8, 9)])\n",
    "\n",
    "model3 = lm(logBCF~nHM+piPC09+MLOGP+ON1V+B02.C.N.+F04.C.O., data=trainData)\n",
    "summary(model3)"
   ]
  },
  {
   "cell_type": "markdown",
   "id": "first-distinction",
   "metadata": {},
   "source": [
    "## Question 3: Stepwise Regression\n",
    "\n",
    "(a) Perform backward stepwise regression using BIC. Allow the minimum model to be the model with only an intercept, and the full model to be *model1*. Display the model summary of your final model. Call it *model4*"
   ]
  },
  {
   "cell_type": "code",
   "execution_count": 39,
   "id": "romance-appearance",
   "metadata": {
    "lines_to_next_cell": 2
   },
   "outputs": [
    {
     "name": "stdout",
     "output_type": "stream",
     "text": [
      "Start:  AIC=-231\n",
      "logBCF ~ nHM + piPC09 + PCD + X2Av + MLOGP + ON1V + N.072 + B02.C.N. + \n",
      "    F04.C.O.\n",
      "\n",
      "           Df Sum of Sq    RSS      AIC\n",
      "- X2Av      1     0.010 388.71 -237.417\n",
      "- PCD       1     0.481 389.18 -236.662\n",
      "- N.072     1     0.676 389.38 -236.350\n",
      "- piPC09    1     1.411 390.11 -235.173\n",
      "- B02.C.N.  1     2.468 391.17 -233.484\n",
      "- ON1V      1     2.804 391.51 -232.949\n",
      "<none>                  388.70 -230.997\n",
      "- F04.C.O.  1     6.410 395.11 -227.226\n",
      "- nHM       1    23.557 412.26 -200.718\n",
      "- MLOGP     1   138.539 527.24  -47.211\n",
      "\n",
      "Step:  AIC=-237.42\n",
      "logBCF ~ nHM + piPC09 + PCD + MLOGP + ON1V + N.072 + B02.C.N. + \n",
      "    F04.C.O.\n",
      "\n",
      "           Df Sum of Sq    RSS      AIC\n",
      "- PCD       1     0.517 389.23 -243.025\n",
      "- N.072     1     0.667 389.38 -242.783\n",
      "- piPC09    1     1.423 390.14 -241.574\n",
      "- B02.C.N.  1     2.510 391.22 -239.838\n",
      "- ON1V      1     2.915 391.63 -239.192\n",
      "<none>                  388.71 -237.417\n",
      "- F04.C.O.  1     6.491 395.21 -233.520\n",
      "- nHM       1    25.431 414.15 -204.309\n",
      "- MLOGP     1   146.081 534.80  -44.772\n",
      "\n",
      "Step:  AIC=-243.02\n",
      "logBCF ~ nHM + piPC09 + MLOGP + ON1V + N.072 + B02.C.N. + F04.C.O.\n",
      "\n",
      "           Df Sum of Sq    RSS      AIC\n",
      "- N.072     1     0.813 390.04 -248.159\n",
      "- B02.C.N.  1     2.099 391.33 -246.105\n",
      "- ON1V      1     2.412 391.64 -245.606\n",
      "<none>                  389.23 -243.025\n",
      "- F04.C.O.  1     6.088 395.32 -239.776\n",
      "- piPC09    1     6.203 395.43 -239.594\n",
      "- nHM       1    27.541 416.77 -206.800\n",
      "- MLOGP     1   181.833 571.06  -10.264\n",
      "\n",
      "Step:  AIC=-248.16\n",
      "logBCF ~ nHM + piPC09 + MLOGP + ON1V + B02.C.N. + F04.C.O.\n",
      "\n",
      "           Df Sum of Sq    RSS      AIC\n",
      "- ON1V      1     1.978 392.02 -251.438\n",
      "- B02.C.N.  1     3.026 393.07 -249.773\n",
      "<none>                  390.04 -248.159\n",
      "- piPC09    1     5.626 395.67 -245.659\n",
      "- F04.C.O.  1     5.851 395.89 -245.304\n",
      "- nHM       1    26.728 416.77 -213.236\n",
      "- MLOGP     1   203.819 593.86    7.728\n",
      "\n",
      "Step:  AIC=-251.44\n",
      "logBCF ~ nHM + piPC09 + MLOGP + B02.C.N. + F04.C.O.\n",
      "\n",
      "           Df Sum of Sq    RSS      AIC\n",
      "- B02.C.N.  1     2.693 394.72 -253.602\n",
      "- F04.C.O.  1     3.902 395.92 -251.695\n",
      "<none>                  392.02 -251.438\n",
      "- piPC09    1     7.252 399.27 -246.437\n",
      "- nHM       1    25.197 417.22 -219.003\n",
      "- MLOGP     1   247.006 639.03   47.031\n",
      "\n",
      "Step:  AIC=-253.6\n",
      "logBCF ~ nHM + piPC09 + MLOGP + F04.C.O.\n",
      "\n",
      "           Df Sum of Sq    RSS      AIC\n",
      "<none>                  394.72 -253.602\n",
      "- F04.C.O.  1     4.868 399.58 -252.390\n",
      "- piPC09    1     5.798 400.51 -250.939\n",
      "- nHM       1    26.847 421.56 -218.977\n",
      "- MLOGP     1   302.931 697.65   95.359\n"
     ]
    },
    {
     "data": {
      "text/plain": [
       "\n",
       "Call:\n",
       "lm(formula = logBCF ~ nHM + piPC09 + MLOGP + F04.C.O., data = trainData)\n",
       "\n",
       "Residuals:\n",
       "    Min      1Q  Median      3Q     Max \n",
       "-3.2611 -0.5126  0.0517  0.5353  4.3488 \n",
       "\n",
       "Coefficients:\n",
       "             Estimate Std. Error t value Pr(>|t|)    \n",
       "(Intercept) -0.008695   0.078196  -0.111  0.91150    \n",
       "nHM          0.114029   0.017574   6.489 1.78e-10 ***\n",
       "piPC09       0.041119   0.013636   3.015  0.00267 ** \n",
       "MLOGP        0.566473   0.025990  21.796  < 2e-16 ***\n",
       "F04.C.O.    -0.022104   0.008000  -2.763  0.00590 ** \n",
       "---\n",
       "Signif. codes:  0 ‘***’ 0.001 ‘**’ 0.01 ‘*’ 0.05 ‘.’ 0.1 ‘ ’ 1\n",
       "\n",
       "Residual standard error: 0.7985 on 619 degrees of freedom\n",
       "Multiple R-squared:  0.662,\tAdjusted R-squared:  0.6599 \n",
       "F-statistic: 303.1 on 4 and 619 DF,  p-value: < 2.2e-16\n"
      ]
     },
     "metadata": {},
     "output_type": "display_data"
    }
   ],
   "source": [
    "set.seed(100)\n",
    "n=nrow(trainData)\n",
    "model4 <- step(model1, scope = list(lower= lm(logBCF~1, data=trainData), upper=model1), direction=\"backward\", k=log(n))\n",
    "\n",
    "summary(model4)"
   ]
  },
  {
   "cell_type": "markdown",
   "id": "experienced-experiment",
   "metadata": {},
   "source": [
    "(b) How many variables are in *model4*? Which regression coefficients are significant at the 99% confidence level?\n"
   ]
  },
  {
   "cell_type": "markdown",
   "id": "f3c54c6d",
   "metadata": {},
   "source": [
    "There are 4 variables in model4. All regression coefficients (nHL, piPC09, MLOGP, F04.C.O.) except for the intercept are statistically significant at 99% confidence interval. "
   ]
  },
  {
   "cell_type": "markdown",
   "id": "passive-telling",
   "metadata": {},
   "source": [
    "(c) Perform forward stepwise selection with AIC. Allow the minimum model to be the model with only an intercept, and the full model to be *model1*. Display the model summary of your final model. Call it *model5*. Do the variables included in *model5* differ from the variables in *model4*? \n"
   ]
  },
  {
   "cell_type": "code",
   "execution_count": 40,
   "id": "nominated-seeker",
   "metadata": {
    "lines_to_next_cell": 2
   },
   "outputs": [
    {
     "name": "stdout",
     "output_type": "stream",
     "text": [
      "Start:  AIC=393.14\n",
      "logBCF ~ 1\n",
      "\n",
      "           Df Sum of Sq     RSS     AIC\n",
      "+ MLOGP     1    738.32  429.60 -228.94\n",
      "+ nHM       1    255.66  912.25  240.98\n",
      "+ piPC09    1    220.90  947.02  264.31\n",
      "+ PCD       1    150.75 1017.17  308.90\n",
      "+ B02.C.N.  1    139.23 1028.68  315.93\n",
      "+ N.072     1     43.55 1124.37  371.43\n",
      "+ ON1V      1     27.76 1140.16  380.13\n",
      "+ F04.C.O.  1     20.79 1147.13  383.93\n",
      "<none>                  1167.92  393.14\n",
      "+ X2Av      1      2.45 1165.46  393.83\n",
      "\n",
      "Step:  AIC=-228.94\n",
      "logBCF ~ MLOGP\n",
      "\n",
      "           Df Sum of Sq    RSS     AIC\n",
      "+ nHM       1   27.1327 402.47 -267.65\n",
      "+ B02.C.N.  1    4.1778 425.42 -233.04\n",
      "+ F04.C.O.  1    4.1526 425.45 -233.00\n",
      "+ X2Av      1    3.2819 426.32 -231.72\n",
      "+ ON1V      1    2.3664 427.23 -230.38\n",
      "<none>                  429.60 -228.94\n",
      "+ piPC09    1    1.0443 428.55 -228.46\n",
      "+ N.072     1    0.2481 429.35 -227.30\n",
      "+ PCD       1    0.1198 429.48 -227.11\n",
      "\n",
      "Step:  AIC=-267.65\n",
      "logBCF ~ MLOGP + nHM\n",
      "\n",
      "           Df Sum of Sq    RSS     AIC\n",
      "+ piPC09    1   2.88247 399.58 -270.13\n",
      "+ F04.C.O.  1   1.95225 400.51 -268.68\n",
      "+ B02.C.N.  1   1.93200 400.53 -268.65\n",
      "<none>                  402.47 -267.65\n",
      "+ PCD       1   1.23679 401.23 -267.57\n",
      "+ N.072     1   0.40989 402.06 -266.29\n",
      "+ ON1V      1   0.33115 402.13 -266.16\n",
      "+ X2Av      1   0.11836 402.35 -265.83\n",
      "\n",
      "Step:  AIC=-270.13\n",
      "logBCF ~ MLOGP + nHM + piPC09\n",
      "\n",
      "           Df Sum of Sq    RSS     AIC\n",
      "+ F04.C.O.  1    4.8680 394.72 -275.78\n",
      "+ B02.C.N.  1    3.6597 395.92 -273.88\n",
      "+ N.072     1    1.4631 398.12 -270.42\n",
      "<none>                  399.58 -270.13\n",
      "+ X2Av      1    0.5349 399.05 -268.97\n",
      "+ ON1V      1    0.0065 399.58 -268.14\n",
      "+ PCD       1    0.0001 399.58 -268.13\n",
      "\n",
      "Step:  AIC=-275.78\n",
      "logBCF ~ MLOGP + nHM + piPC09 + F04.C.O.\n",
      "\n",
      "           Df Sum of Sq    RSS     AIC\n",
      "+ B02.C.N.  1   2.69326 392.02 -278.06\n",
      "+ ON1V      1   1.64544 393.07 -276.39\n",
      "<none>                  394.72 -275.78\n",
      "+ N.072     1   1.06163 393.65 -275.46\n",
      "+ X2Av      1   0.51804 394.20 -274.60\n",
      "+ PCD       1   0.07778 394.64 -273.91\n",
      "\n",
      "Step:  AIC=-278.06\n",
      "logBCF ~ MLOGP + nHM + piPC09 + F04.C.O. + B02.C.N.\n",
      "\n",
      "        Df Sum of Sq    RSS     AIC\n",
      "+ ON1V   1   1.97807 390.04 -279.21\n",
      "<none>               392.02 -278.06\n",
      "+ N.072  1   0.37905 391.64 -276.66\n",
      "+ X2Av   1   0.12543 391.90 -276.25\n",
      "+ PCD    1   0.00000 392.02 -276.06\n",
      "\n",
      "Step:  AIC=-279.21\n",
      "logBCF ~ MLOGP + nHM + piPC09 + F04.C.O. + B02.C.N. + ON1V\n",
      "\n",
      "        Df Sum of Sq    RSS     AIC\n",
      "<none>               390.04 -279.21\n",
      "+ N.072  1   0.81306 389.23 -278.51\n",
      "+ PCD    1   0.66238 389.38 -278.27\n",
      "+ X2Av   1   0.02794 390.02 -277.26\n"
     ]
    },
    {
     "data": {
      "text/plain": [
       "\n",
       "Call:\n",
       "lm(formula = logBCF ~ MLOGP + nHM + piPC09 + F04.C.O. + B02.C.N. + \n",
       "    ON1V, data = trainData)\n",
       "\n",
       "Residuals:\n",
       "    Min      1Q  Median      3Q     Max \n",
       "-3.2364 -0.5234  0.0421  0.5196  4.1159 \n",
       "\n",
       "Coefficients:\n",
       "             Estimate Std. Error t value Pr(>|t|)    \n",
       "(Intercept)  0.035785   0.099454   0.360  0.71911    \n",
       "MLOGP        0.528522   0.029434  17.956  < 2e-16 ***\n",
       "nHM          0.124086   0.019083   6.502 1.63e-10 ***\n",
       "piPC09       0.042167   0.014135   2.983  0.00297 ** \n",
       "F04.C.O.    -0.028644   0.009415  -3.042  0.00245 ** \n",
       "B02.C.N.    -0.160204   0.073225  -2.188  0.02906 *  \n",
       "ON1V         0.098099   0.055457   1.769  0.07740 .  \n",
       "---\n",
       "Signif. codes:  0 ‘***’ 0.001 ‘**’ 0.01 ‘*’ 0.05 ‘.’ 0.1 ‘ ’ 1\n",
       "\n",
       "Residual standard error: 0.7951 on 617 degrees of freedom\n",
       "Multiple R-squared:  0.666,\tAdjusted R-squared:  0.6628 \n",
       "F-statistic: 205.1 on 6 and 617 DF,  p-value: < 2.2e-16\n"
      ]
     },
     "metadata": {},
     "output_type": "display_data"
    }
   ],
   "source": [
    "set.seed(100)\n",
    "\n",
    "n=nrow(trainData)\n",
    "model5 <- step(lm(logBCF~1, data=trainData), scope = list(lower= lm(logBCF~1, data=trainData), upper=model1), direction=\"forward\")\n",
    "\n",
    "summary(model5)"
   ]
  },
  {
   "cell_type": "markdown",
   "id": "0123bdcb",
   "metadata": {},
   "source": [
    "Yes, the variables chosen using forward regression are different than those in backward regression."
   ]
  },
  {
   "cell_type": "markdown",
   "id": "elder-anaheim",
   "metadata": {},
   "source": [
    "(d) Compare the adjusted $R^2$, Mallow's Cp, AICs and BICs of the full model (*model1*), the model found in Question 2 (*model3*), and the model found using backward selection with BIC (*model4*). Which model is preferred based on these criteria and why?"
   ]
  },
  {
   "cell_type": "code",
   "execution_count": 41,
   "id": "minus-repository",
   "metadata": {
    "lines_to_next_cell": 2
   },
   "outputs": [
    {
     "data": {
      "text/html": [
       "<style>\n",
       ".list-inline {list-style: none; margin:0; padding: 0}\n",
       ".list-inline>li {display: inline-block}\n",
       ".list-inline>li:not(:last-child)::after {content: \"\\00b7\"; padding: 0 .5ex}\n",
       "</style>\n",
       "<ol class=list-inline><li>'Model'</li><li>'Adjust R2'</li><li>'Cp'</li><li>'AIC'</li><li>'BIC'</li></ol>\n"
      ],
      "text/latex": [
       "\\begin{enumerate*}\n",
       "\\item 'Model'\n",
       "\\item 'Adjust R2'\n",
       "\\item 'Cp'\n",
       "\\item 'AIC'\n",
       "\\item 'BIC'\n",
       "\\end{enumerate*}\n"
      ],
      "text/markdown": [
       "1. 'Model'\n",
       "2. 'Adjust R2'\n",
       "3. 'Cp'\n",
       "4. 'AIC'\n",
       "5. 'BIC'\n",
       "\n",
       "\n"
      ],
      "text/plain": [
       "[1] \"Model\"     \"Adjust R2\" \"Cp\"        \"AIC\"       \"BIC\"      "
      ]
     },
     "metadata": {},
     "output_type": "display_data"
    },
    {
     "data": {
      "text/html": [
       "<style>\n",
       ".list-inline {list-style: none; margin:0; padding: 0}\n",
       ".list-inline>li {display: inline-block}\n",
       ".list-inline>li:not(:last-child)::after {content: \"\\00b7\"; padding: 0 .5ex}\n",
       "</style>\n",
       "<ol class=list-inline><li>'model1'</li><li>'0.662'</li><li>'10'</li><li>'1497.477'</li><li>'1546.274'</li></ol>\n"
      ],
      "text/latex": [
       "\\begin{enumerate*}\n",
       "\\item 'model1'\n",
       "\\item '0.662'\n",
       "\\item '10'\n",
       "\\item '1497.477'\n",
       "\\item '1546.274'\n",
       "\\end{enumerate*}\n"
      ],
      "text/markdown": [
       "1. 'model1'\n",
       "2. '0.662'\n",
       "3. '10'\n",
       "4. '1497.477'\n",
       "5. '1546.274'\n",
       "\n",
       "\n"
      ],
      "text/plain": [
       "[1] \"model1\"   \"0.662\"    \"10\"       \"1497.477\" \"1546.274\""
      ]
     },
     "metadata": {},
     "output_type": "display_data"
    },
    {
     "data": {
      "text/html": [
       "<style>\n",
       ".list-inline {list-style: none; margin:0; padding: 0}\n",
       ".list-inline>li {display: inline-block}\n",
       ".list-inline>li:not(:last-child)::after {content: \"\\00b7\"; padding: 0 .5ex}\n",
       "</style>\n",
       "<ol class=list-inline><li>'model3'</li><li>'0.663'</li><li>'7'</li><li>'1493.623'</li><li>'1529.113'</li></ol>\n"
      ],
      "text/latex": [
       "\\begin{enumerate*}\n",
       "\\item 'model3'\n",
       "\\item '0.663'\n",
       "\\item '7'\n",
       "\\item '1493.623'\n",
       "\\item '1529.113'\n",
       "\\end{enumerate*}\n"
      ],
      "text/markdown": [
       "1. 'model3'\n",
       "2. '0.663'\n",
       "3. '7'\n",
       "4. '1493.623'\n",
       "5. '1529.113'\n",
       "\n",
       "\n"
      ],
      "text/plain": [
       "[1] \"model3\"   \"0.663\"    \"7\"        \"1493.623\" \"1529.113\""
      ]
     },
     "metadata": {},
     "output_type": "display_data"
    },
    {
     "data": {
      "text/html": [
       "<style>\n",
       ".list-inline {list-style: none; margin:0; padding: 0}\n",
       ".list-inline>li {display: inline-block}\n",
       ".list-inline>li:not(:last-child)::after {content: \"\\00b7\"; padding: 0 .5ex}\n",
       "</style>\n",
       "<ol class=list-inline><li>'model4'</li><li>'0.66'</li><li>'5'</li><li>'1497.052'</li><li>'1523.669'</li></ol>\n"
      ],
      "text/latex": [
       "\\begin{enumerate*}\n",
       "\\item 'model4'\n",
       "\\item '0.66'\n",
       "\\item '5'\n",
       "\\item '1497.052'\n",
       "\\item '1523.669'\n",
       "\\end{enumerate*}\n"
      ],
      "text/markdown": [
       "1. 'model4'\n",
       "2. '0.66'\n",
       "3. '5'\n",
       "4. '1497.052'\n",
       "5. '1523.669'\n",
       "\n",
       "\n"
      ],
      "text/plain": [
       "[1] \"model4\"   \"0.66\"     \"5\"        \"1497.052\" \"1523.669\""
      ]
     },
     "metadata": {},
     "output_type": "display_data"
    }
   ],
   "source": [
    "set.seed(100)\n",
    "\n",
    "c(\"Model\", \"Adjust R2\", \"Cp\", \"AIC\", \"BIC\")\n",
    "c(\"model1\", round(summary(model1)$adj.r.squared, 3), round(Cp(model1, S2=summary(model1)$sigma^2), 3), round(AIC(model1, k=2),3), round(AIC(model1, k=log(n)), 3))\n",
    "c(\"model3\", round(summary(model3)$adj.r.squared, 3), round(Cp(model3, S2=summary(model3)$sigma^2), 3), round(AIC(model3, k=2),3), round(AIC(model3, k=log(n)), 3))\n",
    "c(\"model4\", round(summary(model4)$adj.r.squared, 3), round(Cp(model4, S2=summary(model4)$sigma^2), 3), round(AIC(model4, k=2),3), round(AIC(model4, k=log(n)), 3))"
   ]
  },
  {
   "cell_type": "markdown",
   "id": "5daa62f3",
   "metadata": {},
   "source": [
    "Based on this criteria it is difficult to choose between model3 and model4. Model3 has the highest adjust r-squred signifying it describes the variation in the predictior the most. However model4 has a lower mallows cp and BIC. An additional criteria could be the simplicity of the model where model4 is simpler with 4 predictors while model3 has 6."
   ]
  },
  {
   "cell_type": "markdown",
   "id": "37ff29d5",
   "metadata": {},
   "source": [
    "\n",
    "\n",
    "## Question 4: Ridge Regression\n",
    "\n",
    "(a) Perform ridge regression on the training set. Use cv.glmnet() to find the lambda value that minimizes the cross-validation error using 10 fold CV."
   ]
  },
  {
   "cell_type": "code",
   "execution_count": 42,
   "id": "tough-uncle",
   "metadata": {
    "lines_to_next_cell": 2
   },
   "outputs": [],
   "source": [
    "set.seed(100)\n",
    "\n",
    "ridge = cv.glmnet(x=as.matrix(trainData[,-10]), y=trainData$logBCF, alpha=0, nfolds=10)\n"
   ]
  },
  {
   "cell_type": "markdown",
   "id": "close-amendment",
   "metadata": {},
   "source": [
    "(b) List the value of coefficients at the optimum lambda value."
   ]
  },
  {
   "cell_type": "code",
   "execution_count": 43,
   "id": "cultural-logging",
   "metadata": {
    "lines_to_next_cell": 2
   },
   "outputs": [
    {
     "data": {
      "text/plain": [
       "10 x 1 sparse Matrix of class \"dgCMatrix\"\n",
       "                      1\n",
       "(Intercept)  0.13841426\n",
       "nHM          0.14391877\n",
       "piPC09       0.03735762\n",
       "PCD          0.08235334\n",
       "X2Av        -0.06901352\n",
       "MLOGP        0.44403654\n",
       "ON1V         0.15770114\n",
       "N.072       -0.09683534\n",
       "B02.C.N.    -0.20919397\n",
       "F04.C.O.    -0.03177144"
      ]
     },
     "metadata": {},
     "output_type": "display_data"
    }
   ],
   "source": [
    "set.seed(100)\n",
    "coef(ridge, s=ridge$lambda.min)"
   ]
  },
  {
   "cell_type": "markdown",
   "id": "political-macintosh",
   "metadata": {},
   "source": [
    "(c) How many variables were selected? Was this result expected? Explain."
   ]
  },
  {
   "cell_type": "markdown",
   "id": "d1733fd9",
   "metadata": {},
   "source": [
    "All 9 variables were selected using this method. This is not surprising because ridge regression does not do variable selection."
   ]
  },
  {
   "cell_type": "markdown",
   "id": "public-banner",
   "metadata": {},
   "source": [
    "## Question 5: Lasso Regression"
   ]
  },
  {
   "cell_type": "markdown",
   "id": "intended-patient",
   "metadata": {},
   "source": [
    "(a) Perform lasso regression on the training set.Use cv.glmnet() to find the lambda value that minimizes the cross-validation error using 10 fold CV."
   ]
  },
  {
   "cell_type": "code",
   "execution_count": 44,
   "id": "forbidden-residence",
   "metadata": {
    "message": false,
    "warning": false
   },
   "outputs": [],
   "source": [
    "set.seed(100)\n",
    "lasso = cv.glmnet(x=as.matrix(trainData[,-10]), y=trainData$logBCF, alpha=1, nfolds=10)"
   ]
  },
  {
   "cell_type": "markdown",
   "id": "empirical-doctor",
   "metadata": {},
   "source": [
    "(b) Plot the regression coefficient path."
   ]
  },
  {
   "cell_type": "code",
   "execution_count": 45,
   "id": "norwegian-procurement",
   "metadata": {
    "lines_to_next_cell": 2
   },
   "outputs": [
    {
     "data": {
      "image/png": "[encoded data removed]",
      "text/plain": [
       "plot without title"
      ]
     },
     "metadata": {
      "image/png": {
       "height": 420,
       "width": 420
      }
     },
     "output_type": "display_data"
    }
   ],
   "source": [
    "set.seed(100)\n",
    "plot(lasso)"
   ]
  },
  {
   "cell_type": "markdown",
   "id": "informed-shadow",
   "metadata": {},
   "source": [
    "(c) How many variables were selected? Which are they?"
   ]
  },
  {
   "cell_type": "code",
   "execution_count": 46,
   "id": "several-strike",
   "metadata": {
    "lines_to_next_cell": 0
   },
   "outputs": [
    {
     "data": {
      "text/plain": [
       "10 x 1 sparse Matrix of class \"dgCMatrix\"\n",
       "                      1\n",
       "(Intercept)  0.02722838\n",
       "nHM          0.12543866\n",
       "piPC09       0.03387665\n",
       "PCD          0.03194878\n",
       "X2Av         .         \n",
       "MLOGP        0.52174346\n",
       "ON1V         0.09633951\n",
       "N.072       -0.05487196\n",
       "B02.C.N.    -0.13961811\n",
       "F04.C.O.    -0.02535576"
      ]
     },
     "metadata": {},
     "output_type": "display_data"
    }
   ],
   "source": [
    "set.seed(100)\n",
    "coef(lasso, s=lasso$lambda.min)"
   ]
  },
  {
   "cell_type": "markdown",
   "id": "biblical-paris",
   "metadata": {},
   "source": [
    "8 variables were selected. They include nHM, piPC09, PCD, MLOGP, ON1V, N.072, B02.C.N., F04.C.O."
   ]
  },
  {
   "cell_type": "markdown",
   "id": "human-vintage",
   "metadata": {},
   "source": [
    "## Question 6: Elastic Net\n",
    "\n",
    "(a) Perform elastic net regression on the training set. Use cv.glmnet() to find the lambda value that minimizes the cross-validation error using 10 fold CV. Give equal weight to both penalties."
   ]
  },
  {
   "cell_type": "code",
   "execution_count": 47,
   "id": "helpful-extra",
   "metadata": {
    "lines_to_next_cell": 2
   },
   "outputs": [],
   "source": [
    "set.seed(100)\n",
    "\n",
    "en = cv.glmnet(x=as.matrix(trainData[,-10]), y=trainData$logBCF, alpha=0.5, nfolds=10)"
   ]
  },
  {
   "cell_type": "markdown",
   "id": "homeless-onion",
   "metadata": {},
   "source": [
    "(b) List the coefficient values at the optimal lambda. How many variables were selected? How do these variables compare to those from Lasso in Question 5?"
   ]
  },
  {
   "cell_type": "code",
   "execution_count": 48,
   "id": "valuable-seattle",
   "metadata": {
    "lines_to_next_cell": 2
   },
   "outputs": [
    {
     "data": {
      "text/plain": [
       "10 x 1 sparse Matrix of class \"dgCMatrix\"\n",
       "                      1\n",
       "(Intercept)  0.04903516\n",
       "nHM          0.12397290\n",
       "piPC09       0.03470891\n",
       "PCD          0.03060034\n",
       "X2Av         .         \n",
       "MLOGP        0.51776470\n",
       "ON1V         0.08901088\n",
       "N.072       -0.05236840\n",
       "B02.C.N.    -0.14155538\n",
       "F04.C.O.    -0.02420217"
      ]
     },
     "metadata": {},
     "output_type": "display_data"
    }
   ],
   "source": [
    "set.seed(100)\n",
    "coef(en, s=en$lambda.min)"
   ]
  },
  {
   "cell_type": "markdown",
   "id": "305f2461",
   "metadata": {},
   "source": [
    "8 variables were selected. They were the same as those found in lasso regression in Question 5."
   ]
  },
  {
   "cell_type": "markdown",
   "id": "stuffed-teacher",
   "metadata": {},
   "source": [
    "## Question 7: Model comparison\n",
    "\n",
    "(a) Predict *logBCF* for each of the rows in the test data using the full model, and the models found using backward stepwise regression with BIC, ridge regression, lasso regression, and elastic net. Display the first few predictions for each model."
   ]
  },
  {
   "cell_type": "code",
   "execution_count": 66,
   "id": "limited-taste",
   "metadata": {
    "lines_to_next_cell": 0
   },
   "outputs": [
    {
     "name": "stdout",
     "output_type": "stream",
     "text": [
      "[1] \"Predictions using model1\"\n"
     ]
    },
    {
     "data": {
      "text/html": [
       "<style>\n",
       ".dl-inline {width: auto; margin:0; padding: 0}\n",
       ".dl-inline>dt, .dl-inline>dd {float: none; width: auto; display: inline-block}\n",
       ".dl-inline>dt::after {content: \":\\0020\"; padding-right: .5ex}\n",
       ".dl-inline>dt:not(:first-of-type) {padding-left: .5ex}\n",
       "</style><dl class=dl-inline><dt>714</dt><dd>2.44647901736994</dd><dt>503</dt><dd>4.33375904061707</dd><dt>358</dt><dd>3.2668916868588</dd></dl>\n"
      ],
      "text/latex": [
       "\\begin{description*}\n",
       "\\item[714] 2.44647901736994\n",
       "\\item[503] 4.33375904061707\n",
       "\\item[358] 3.2668916868588\n",
       "\\end{description*}\n"
      ],
      "text/markdown": [
       "714\n",
       ":   2.44647901736994503\n",
       ":   4.33375904061707358\n",
       ":   3.2668916868588\n",
       "\n"
      ],
      "text/plain": [
       "     714      503      358 \n",
       "2.446479 4.333759 3.266892 "
      ]
     },
     "metadata": {},
     "output_type": "display_data"
    },
    {
     "name": "stdout",
     "output_type": "stream",
     "text": [
      "[1] \"Predictions using model4\"\n"
     ]
    },
    {
     "data": {
      "text/html": [
       "<style>\n",
       ".dl-inline {width: auto; margin:0; padding: 0}\n",
       ".dl-inline>dt, .dl-inline>dd {float: none; width: auto; display: inline-block}\n",
       ".dl-inline>dt::after {content: \":\\0020\"; padding-right: .5ex}\n",
       ".dl-inline>dt:not(:first-of-type) {padding-left: .5ex}\n",
       "</style><dl class=dl-inline><dt>714</dt><dd>2.42491603104022</dd><dt>503</dt><dd>4.35316712936592</dd><dt>358</dt><dd>3.27419195052767</dd></dl>\n"
      ],
      "text/latex": [
       "\\begin{description*}\n",
       "\\item[714] 2.42491603104022\n",
       "\\item[503] 4.35316712936592\n",
       "\\item[358] 3.27419195052767\n",
       "\\end{description*}\n"
      ],
      "text/markdown": [
       "714\n",
       ":   2.42491603104022503\n",
       ":   4.35316712936592358\n",
       ":   3.27419195052767\n",
       "\n"
      ],
      "text/plain": [
       "     714      503      358 \n",
       "2.424916 4.353167 3.274192 "
      ]
     },
     "metadata": {},
     "output_type": "display_data"
    },
    {
     "name": "stdout",
     "output_type": "stream",
     "text": [
      "[1] \"Predictions using ridge\"\n"
     ]
    },
    {
     "data": {
      "text/html": [
       "<style>\n",
       ".list-inline {list-style: none; margin:0; padding: 0}\n",
       ".list-inline>li {display: inline-block}\n",
       ".list-inline>li:not(:last-child)::after {content: \"\\00b7\"; padding: 0 .5ex}\n",
       "</style>\n",
       "<ol class=list-inline><li>2.45982255104904</li><li>3.91299662477024</li><li>3.08246899277513</li></ol>\n"
      ],
      "text/latex": [
       "\\begin{enumerate*}\n",
       "\\item 2.45982255104904\n",
       "\\item 3.91299662477024\n",
       "\\item 3.08246899277513\n",
       "\\end{enumerate*}\n"
      ],
      "text/markdown": [
       "1. 2.45982255104904\n",
       "2. 3.91299662477024\n",
       "3. 3.08246899277513\n",
       "\n",
       "\n"
      ],
      "text/plain": [
       "[1] 2.459823 3.912997 3.082469"
      ]
     },
     "metadata": {},
     "output_type": "display_data"
    },
    {
     "name": "stdout",
     "output_type": "stream",
     "text": [
      "[1] \"Predictions using lasso\"\n"
     ]
    },
    {
     "data": {
      "text/html": [
       "<style>\n",
       ".list-inline {list-style: none; margin:0; padding: 0}\n",
       ".list-inline>li {display: inline-block}\n",
       ".list-inline>li:not(:last-child)::after {content: \"\\00b7\"; padding: 0 .5ex}\n",
       "</style>\n",
       "<ol class=list-inline><li>2.34611325551213</li><li>3.83411844089717</li><li>3.01026111576203</li></ol>\n"
      ],
      "text/latex": [
       "\\begin{enumerate*}\n",
       "\\item 2.34611325551213\n",
       "\\item 3.83411844089717\n",
       "\\item 3.01026111576203\n",
       "\\end{enumerate*}\n"
      ],
      "text/markdown": [
       "1. 2.34611325551213\n",
       "2. 3.83411844089717\n",
       "3. 3.01026111576203\n",
       "\n",
       "\n"
      ],
      "text/plain": [
       "[1] 2.346113 3.834118 3.010261"
      ]
     },
     "metadata": {},
     "output_type": "display_data"
    },
    {
     "name": "stdout",
     "output_type": "stream",
     "text": [
      "[1] \"Predictions using en\"\n"
     ]
    },
    {
     "data": {
      "text/html": [
       "<style>\n",
       ".list-inline {list-style: none; margin:0; padding: 0}\n",
       ".list-inline>li {display: inline-block}\n",
       ".list-inline>li:not(:last-child)::after {content: \"\\00b7\"; padding: 0 .5ex}\n",
       "</style>\n",
       "<ol class=list-inline><li>2.30266300010976</li><li>3.85768132375403</li><li>2.98961343322557</li></ol>\n"
      ],
      "text/latex": [
       "\\begin{enumerate*}\n",
       "\\item 2.30266300010976\n",
       "\\item 3.85768132375403\n",
       "\\item 2.98961343322557\n",
       "\\end{enumerate*}\n"
      ],
      "text/markdown": [
       "1. 2.30266300010976\n",
       "2. 3.85768132375403\n",
       "3. 2.98961343322557\n",
       "\n",
       "\n"
      ],
      "text/plain": [
       "[1] 2.302663 3.857681 2.989613"
      ]
     },
     "metadata": {},
     "output_type": "display_data"
    }
   ],
   "source": [
    "set.seed(100)\n",
    "\n",
    "pred.model1 = predict(model1, newdata = testData, type = \"response\")\n",
    "pred.model4 = predict(model4, newdata = testData, type = \"response\")\n",
    "pred.ridge = predict(ridge, newx = as.matrix(testData)[, -10], type = \"response\")\n",
    "pred.lasso = predict(lasso, newx = as.matrix(testData)[, -10], type = \"response\")\n",
    "pred.en = predict(en, newx = as.matrix(testData)[, -10], type = \"response\")\n",
    "\n",
    "\n",
    "print(\"Predictions using model1\")\n",
    "pred.model1[c(1, 2, 3)]\n",
    "\n",
    "print(\"Predictions using model4\")\n",
    "pred.model4[c(1, 2, 3)]\n",
    "\n",
    "print(\"Predictions using ridge\")\n",
    "pred.ridge[c(1, 2, 3)]\n",
    "\n",
    "print(\"Predictions using lasso\")\n",
    "pred.lasso[c(1, 2, 3)]\n",
    "\n",
    "print(\"Predictions using en\")\n",
    "pred.en[c(1, 2, 3)]"
   ]
  },
  {
   "cell_type": "markdown",
   "id": "national-peninsula",
   "metadata": {},
   "source": []
  },
  {
   "cell_type": "markdown",
   "id": "double-permission",
   "metadata": {},
   "source": [
    "(b) Compare the predictions using mean squared prediction error. Which model performed the best?"
   ]
  },
  {
   "cell_type": "code",
   "execution_count": 71,
   "id": "western-retirement",
   "metadata": {
    "lines_to_next_cell": 2
   },
   "outputs": [
    {
     "data": {
      "text/html": [
       "0.622923636926576"
      ],
      "text/latex": [
       "0.622923636926576"
      ],
      "text/markdown": [
       "0.622923636926576"
      ],
      "text/plain": [
       "[1] 0.6229236"
      ]
     },
     "metadata": {},
     "output_type": "display_data"
    },
    {
     "data": {
      "text/html": [
       "0.632556674695077"
      ],
      "text/latex": [
       "0.632556674695077"
      ],
      "text/markdown": [
       "0.632556674695077"
      ],
      "text/plain": [
       "[1] 0.6325567"
      ]
     },
     "metadata": {},
     "output_type": "display_data"
    },
    {
     "data": {
      "text/html": [
       "0.649911017920158"
      ],
      "text/latex": [
       "0.649911017920158"
      ],
      "text/markdown": [
       "0.649911017920158"
      ],
      "text/plain": [
       "[1] 0.649911"
      ]
     },
     "metadata": {},
     "output_type": "display_data"
    },
    {
     "data": {
      "text/html": [
       "0.648205669389271"
      ],
      "text/latex": [
       "0.648205669389271"
      ],
      "text/markdown": [
       "0.648205669389271"
      ],
      "text/plain": [
       "[1] 0.6482057"
      ]
     },
     "metadata": {},
     "output_type": "display_data"
    },
    {
     "data": {
      "text/html": [
       "0.647788479741378"
      ],
      "text/latex": [
       "0.647788479741378"
      ],
      "text/markdown": [
       "0.647788479741378"
      ],
      "text/plain": [
       "[1] 0.6477885"
      ]
     },
     "metadata": {},
     "output_type": "display_data"
    }
   ],
   "source": [
    "set.seed(100)\n",
    "mean(model1$residuals^2)\n",
    "mean(model4$residuals^2)\n",
    "min(ridge$cvm)\n",
    "min(lasso$cvm)\n",
    "min(en$cvm)"
   ]
  },
  {
   "cell_type": "markdown",
   "id": "a2525eab",
   "metadata": {},
   "source": [
    "The full model has the lowest mean squared prediction error."
   ]
  },
  {
   "cell_type": "markdown",
   "id": "sophisticated-double",
   "metadata": {},
   "source": [
    "(c) Provide a table listing each method described in Question 7a and the variables selected by each method (see Lesson 5.8 for an example). Which variables were selected consistently?\n"
   ]
  },
  {
   "cell_type": "markdown",
   "id": "determined-collector",
   "metadata": {},
   "source": [
    "|        | Backward Stepwise | Ridge | Lasso  | Elastic Net |\n",
    "|--------|-------------|-------------------|--------|-------|\n",
    "|nHM     |        X    |             X     |    X   |   X   |          \n",
    "|piPC09  |        X    |             X     |    X   |   X   | \n",
    "|PCD     |             |             X     |    X   |   x   |        \n",
    "|X2AV    |             |             X     |        |       | \n",
    "|MLOGP   |        X    |             X     |    X   |   X   | \n",
    "|ON1V    |             |             X     |    X   |   X   | \n",
    "|N.072   |             |             X     |    X   |   X   | \n",
    "|B02.C.N.|             |             X     |    X   |   X   |\n",
    "|F04.C.O.|        X    |             X     |    X   |   X   | \n"
   ]
  },
  {
   "cell_type": "code",
   "execution_count": null,
   "id": "18cd50a0",
   "metadata": {},
   "outputs": [],
   "source": []
  }
 ],
 "metadata": {
  "jupytext": {
   "cell_metadata_filter": "name,tags,-all",
   "main_language": "R",
   "notebook_metadata_filter": "-all"
  },
  "kernelspec": {
   "display_name": "R",
   "language": "R",
   "name": "ir"
  },
  "language_info": {
   "codemirror_mode": "r",
   "file_extension": ".r",
   "mimetype": "text/x-r-source",
   "name": "R",
   "pygments_lexer": "r",
   "version": "4.0.2"
  }
 },
 "nbformat": 4,
 "nbformat_minor": 5
}
