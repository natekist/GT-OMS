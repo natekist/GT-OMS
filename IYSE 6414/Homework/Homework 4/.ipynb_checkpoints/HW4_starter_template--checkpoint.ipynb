{
 "cells": [
  {
   "cell_type": "markdown",
   "metadata": {},
   "source": [
    "# Background\n",
    "\n",
    "The owner of a company would like to be able to predict whether employees will stay with the company or leave. \n",
    "\n",
    "## Data Description\n",
    "\n",
    "The data contains information about various characteristics of employees. Please note that the dataset has been updated to account for repetitions, which is needed for Goodness of Fit Assessment. See below for the description of these characteristics. "
   ]
  },
  {
   "cell_type": "markdown",
   "metadata": {},
   "source": [
    "1. **Age.Group**: 1-9 (1 corresponds to teen, 2 corresponds to twenties, etc.) \n",
    "2. **Gender**: 1 if male, 0 if female \n",
    "3. **Tenure**: Number of years with the company \n",
    "4. **Num.Of.Products**: Number of products owned \n",
    "5. **Is.Active.Member**: 1 if active member, 0 if inactive member \n",
    "6. **Staying**: Fraction of employees that stayed with the company for a given set of predicting variables.\n",
    "\n",
    "## Setup\n",
    "\n",
    "You can import the data and set up the problem with the following R code:"
   ]
  },
  {
   "cell_type": "code",
   "execution_count": 1,
   "metadata": {},
   "outputs": [
    {
     "data": {
      "text/html": [
       "<table class=\"dataframe\">\n",
       "<caption>A data.frame: 6 × 8</caption>\n",
       "<thead>\n",
       "\t<tr><th></th><th scope=col>Age.Group</th><th scope=col>Gender</th><th scope=col>Tenure</th><th scope=col>Num.Of.Products</th><th scope=col>Is.Active.Member</th><th scope=col>Stay</th><th scope=col>Employees</th><th scope=col>Staying</th></tr>\n",
       "\t<tr><th></th><th scope=col>&lt;fct&gt;</th><th scope=col>&lt;fct&gt;</th><th scope=col>&lt;int&gt;</th><th scope=col>&lt;fct&gt;</th><th scope=col>&lt;fct&gt;</th><th scope=col>&lt;int&gt;</th><th scope=col>&lt;int&gt;</th><th scope=col>&lt;dbl&gt;</th></tr>\n",
       "</thead>\n",
       "<tbody>\n",
       "\t<tr><th scope=row>1</th><td>2</td><td>1</td><td>3</td><td>1</td><td>0</td><td>5</td><td>11</td><td>0.4545455</td></tr>\n",
       "\t<tr><th scope=row>2</th><td>2</td><td>1</td><td>4</td><td>1</td><td>0</td><td>5</td><td>10</td><td>0.5000000</td></tr>\n",
       "\t<tr><th scope=row>3</th><td>2</td><td>1</td><td>4</td><td>1</td><td>1</td><td>2</td><td>13</td><td>0.1538462</td></tr>\n",
       "\t<tr><th scope=row>4</th><td>2</td><td>0</td><td>7</td><td>1</td><td>0</td><td>3</td><td>10</td><td>0.3000000</td></tr>\n",
       "\t<tr><th scope=row>5</th><td>2</td><td>1</td><td>7</td><td>1</td><td>0</td><td>2</td><td>14</td><td>0.1428571</td></tr>\n",
       "\t<tr><th scope=row>6</th><td>2</td><td>0</td><td>4</td><td>2</td><td>0</td><td>4</td><td>12</td><td>0.3333333</td></tr>\n",
       "</tbody>\n",
       "</table>\n"
      ],
      "text/latex": [
       "A data.frame: 6 × 8\n",
       "\\begin{tabular}{r|llllllll}\n",
       "  & Age.Group & Gender & Tenure & Num.Of.Products & Is.Active.Member & Stay & Employees & Staying\\\\\n",
       "  & <fct> & <fct> & <int> & <fct> & <fct> & <int> & <int> & <dbl>\\\\\n",
       "\\hline\n",
       "\t1 & 2 & 1 & 3 & 1 & 0 & 5 & 11 & 0.4545455\\\\\n",
       "\t2 & 2 & 1 & 4 & 1 & 0 & 5 & 10 & 0.5000000\\\\\n",
       "\t3 & 2 & 1 & 4 & 1 & 1 & 2 & 13 & 0.1538462\\\\\n",
       "\t4 & 2 & 0 & 7 & 1 & 0 & 3 & 10 & 0.3000000\\\\\n",
       "\t5 & 2 & 1 & 7 & 1 & 0 & 2 & 14 & 0.1428571\\\\\n",
       "\t6 & 2 & 0 & 4 & 2 & 0 & 4 & 12 & 0.3333333\\\\\n",
       "\\end{tabular}\n"
      ],
      "text/markdown": [
       "\n",
       "A data.frame: 6 × 8\n",
       "\n",
       "| <!--/--> | Age.Group &lt;fct&gt; | Gender &lt;fct&gt; | Tenure &lt;int&gt; | Num.Of.Products &lt;fct&gt; | Is.Active.Member &lt;fct&gt; | Stay &lt;int&gt; | Employees &lt;int&gt; | Staying &lt;dbl&gt; |\n",
       "|---|---|---|---|---|---|---|---|---|\n",
       "| 1 | 2 | 1 | 3 | 1 | 0 | 5 | 11 | 0.4545455 |\n",
       "| 2 | 2 | 1 | 4 | 1 | 0 | 5 | 10 | 0.5000000 |\n",
       "| 3 | 2 | 1 | 4 | 1 | 1 | 2 | 13 | 0.1538462 |\n",
       "| 4 | 2 | 0 | 7 | 1 | 0 | 3 | 10 | 0.3000000 |\n",
       "| 5 | 2 | 1 | 7 | 1 | 0 | 2 | 14 | 0.1428571 |\n",
       "| 6 | 2 | 0 | 4 | 2 | 0 | 4 | 12 | 0.3333333 |\n",
       "\n"
      ],
      "text/plain": [
       "  Age.Group Gender Tenure Num.Of.Products Is.Active.Member Stay Employees\n",
       "1 2         1      3      1               0                5    11       \n",
       "2 2         1      4      1               0                5    10       \n",
       "3 2         1      4      1               1                2    13       \n",
       "4 2         0      7      1               0                3    10       \n",
       "5 2         1      7      1               0                2    14       \n",
       "6 2         0      4      2               0                4    12       \n",
       "  Staying  \n",
       "1 0.4545455\n",
       "2 0.5000000\n",
       "3 0.1538462\n",
       "4 0.3000000\n",
       "5 0.1428571\n",
       "6 0.3333333"
      ]
     },
     "metadata": {},
     "output_type": "display_data"
    }
   ],
   "source": [
    "# Import the data\n",
    "rawdata = read.csv(\"hw4_data.csv\", header=TRUE, fileEncoding=\"UTF-8-BOM\")\n",
    "\n",
    "# Create variable Staying\n",
    "rawdata$Staying = rawdata$Stay/rawdata$Employees\n",
    "\n",
    "# Set variables as categoricals\n",
    "rawdata$Num.Of.Products<-as.factor(rawdata$Num.Of.Products)\n",
    "rawdata$Age.Group<-as.factor(rawdata$Age.Group)\n",
    "rawdata$Gender<-as.factor(rawdata$Gender)\n",
    "rawdata$Is.Active.Member<-as.factor(rawdata$Is.Active.Member)\n",
    "\n",
    "# Print head of data\n",
    "head(rawdata)"
   ]
  },
  {
   "cell_type": "markdown",
   "metadata": {},
   "source": [
    "**Note:** For all of the following questions, treat variables **Tenure** and **Staying** as quantitative variables and **Age.Group**, **Gender**, **Num.Of.Products**, and **Is.Active.Member** as categorical variables. Categorical variables have already been converted to factors in the starter code."
   ]
  },
  {
   "cell_type": "markdown",
   "metadata": {},
   "source": [
    "# Question 1: Fitting a Model - 9 pts\n",
    "\n",
    "Fit a logistic regression model using *Staying* as the response variable with *Num.Of.Products* as the predictor and logit as the link function. Ensure to include the weights parameter for specifying the number of trials. Call it **model1**. Note that *Num.Of.Products* should be treated as a categorical variable.\n",
    "\n",
    "(a) 3 pts - Display the summary of model1. What are the model parameters and estimates?"
   ]
  },
  {
   "cell_type": "code",
   "execution_count": 2,
   "metadata": {},
   "outputs": [
    {
     "data": {
      "text/plain": [
       "\n",
       "Call:\n",
       "glm(formula = Staying ~ Num.Of.Products, family = binomial, data = rawdata, \n",
       "    weights = Employees)\n",
       "\n",
       "Deviance Residuals: \n",
       "    Min       1Q   Median       3Q      Max  \n",
       "-4.2827  -1.4676  -0.1022   1.4490   4.7231  \n",
       "\n",
       "Coefficients:\n",
       "                 Estimate Std. Error z value Pr(>|z|)    \n",
       "(Intercept)       0.37886    0.04743   7.988 1.37e-15 ***\n",
       "Num.Of.Products2 -1.76683    0.10313 -17.132  < 2e-16 ***\n",
       "---\n",
       "Signif. codes:  0 '***' 0.001 '**' 0.01 '*' 0.05 '.' 0.1 ' ' 1\n",
       "\n",
       "(Dispersion parameter for binomial family taken to be 1)\n",
       "\n",
       "    Null deviance: 981.04  on 157  degrees of freedom\n",
       "Residual deviance: 632.04  on 156  degrees of freedom\n",
       "AIC: 1056.8\n",
       "\n",
       "Number of Fisher Scoring iterations: 4\n"
      ]
     },
     "metadata": {},
     "output_type": "display_data"
    }
   ],
   "source": [
    "model1 <- glm(Staying ~ Num.Of.Products, weights=Employees,family=binomial, data=rawdata)\n",
    "summary(model1)"
   ]
  },
  {
   "cell_type": "markdown",
   "metadata": {},
   "source": [
    "(b) 3 pts - Write down the equation for the Odds of Staying.\n",
    "\n",
    "Odds of Staying = exp(0.379 - 1.767 * Num.Of.Products)\n",
    "\n",
    "(c) 3 pts - Provide a meaningful interpretation for the estimated coefficient for *Num.Of.Products2* with respect to the log-odds of staying and the odds of staying.\n",
    "\n",
    "One unit of Num.Of.Products decreases the log odds of staying by 1.767. This corresponds to exp(-1.767) = 0.171 decrease in the odds of staying.\n",
    "\n",
    "# Question 2: Inference - 9 pts \n",
    "\n",
    "(a) 3 pts - Using model1, find a 90% confidence interval for the coefficient for *Num.Of.Products2*."
   ]
  },
  {
   "cell_type": "code",
   "execution_count": 3,
   "metadata": {},
   "outputs": [
    {
     "name": "stderr",
     "output_type": "stream",
     "text": [
      "Waiting for profiling to be done...\n",
      "\n"
     ]
    },
    {
     "data": {
      "text/html": [
       "<table class=\"dataframe\">\n",
       "<caption>A matrix: 2 × 2 of type dbl</caption>\n",
       "<thead>\n",
       "\t<tr><th></th><th scope=col>5 %</th><th scope=col>95 %</th></tr>\n",
       "</thead>\n",
       "<tbody>\n",
       "\t<tr><th scope=row>(Intercept)</th><td> 0.3010289</td><td> 0.4570655</td></tr>\n",
       "\t<tr><th scope=row>Num.Of.Products2</th><td>-1.9383610</td><td>-1.5989652</td></tr>\n",
       "</tbody>\n",
       "</table>\n"
      ],
      "text/latex": [
       "A matrix: 2 × 2 of type dbl\n",
       "\\begin{tabular}{r|ll}\n",
       "  & 5 \\% & 95 \\%\\\\\n",
       "\\hline\n",
       "\t(Intercept) &  0.3010289 &  0.4570655\\\\\n",
       "\tNum.Of.Products2 & -1.9383610 & -1.5989652\\\\\n",
       "\\end{tabular}\n"
      ],
      "text/markdown": [
       "\n",
       "A matrix: 2 × 2 of type dbl\n",
       "\n",
       "| <!--/--> | 5 % | 95 % |\n",
       "|---|---|---|\n",
       "| (Intercept) |  0.3010289 |  0.4570655 |\n",
       "| Num.Of.Products2 | -1.9383610 | -1.5989652 |\n",
       "\n"
      ],
      "text/plain": [
       "                 5 %        95 %      \n",
       "(Intercept)       0.3010289  0.4570655\n",
       "Num.Of.Products2 -1.9383610 -1.5989652"
      ]
     },
     "metadata": {},
     "output_type": "display_data"
    }
   ],
   "source": [
    "confint(model1, level = 0.9)"
   ]
  },
  {
   "cell_type": "markdown",
   "metadata": {},
   "source": [
    "The 90% confidence interval for Num.Of.Products2 is (-1.939, -1.599)"
   ]
  },
  {
   "cell_type": "code",
   "execution_count": 4,
   "metadata": {},
   "outputs": [
    {
     "data": {
      "text/html": [
       "0"
      ],
      "text/latex": [
       "0"
      ],
      "text/markdown": [
       "0"
      ],
      "text/plain": [
       "[1] 0"
      ]
     },
     "metadata": {},
     "output_type": "display_data"
    }
   ],
   "source": [
    "1 - pchisq((981.04-632.04), 1)"
   ]
  },
  {
   "cell_type": "markdown",
   "metadata": {},
   "source": [
    "(b) 3 pts - Is model1 significant overall at the 0.01 significance level?\n",
    "\n",
    "Yes, the regression is significant overall given the p-value is $\\approx 0$\n",
    "\n",
    "(c) 3 pts - Which regression coefficients are significantly nonzero at the 0.01 significance level? Which are significantly negative? Why?\n",
    "\n",
    "The intercept and Num.Of.Products2 are statistically significant coefficients at the 0.01 significance level. The only negative coefficient is Num.Of.Products2 which is statistically significant at a 0.01 confidence interval.\n",
    "\n",
    "# Question 3: Goodness of fit - 10 pts\n",
    "\n",
    "(a) 3.5 pts - Perform goodness-of-fit hypothesis tests using both Deviance and Pearson residuals. What do you conclude? Explain the differences, if any, between these findings and what you found in Question 2b."
   ]
  },
  {
   "cell_type": "code",
   "execution_count": 9,
   "metadata": {},
   "outputs": [
    {
     "name": "stdout",
     "output_type": "stream",
     "text": [
      "[1] \"Deviance Method\"\n"
     ]
    },
    {
     "data": {
      "text/html": [
       "<span style=white-space:pre-wrap>'The deviance residual deviance for model1 is  632.040034121775'</span>"
      ],
      "text/latex": [
       "'The deviance residual deviance for model1 is  632.040034121775'"
      ],
      "text/markdown": [
       "<span style=white-space:pre-wrap>'The deviance residual deviance for model1 is  632.040034121775'</span>"
      ],
      "text/plain": [
       "[1] \"The deviance residual deviance for model1 is  632.040034121775\""
      ]
     },
     "metadata": {},
     "output_type": "display_data"
    },
    {
     "data": {
      "text/html": [
       "<span style=white-space:pre-wrap>'This correponds to a p-value of  0'</span>"
      ],
      "text/latex": [
       "'This correponds to a p-value of  0'"
      ],
      "text/markdown": [
       "<span style=white-space:pre-wrap>'This correponds to a p-value of  0'</span>"
      ],
      "text/plain": [
       "[1] \"This correponds to a p-value of  0\""
      ]
     },
     "metadata": {},
     "output_type": "display_data"
    },
    {
     "name": "stdout",
     "output_type": "stream",
     "text": [
      "[1] \"The p-value is approximately 0; therefore, reject the null hypothesis of a good fit.\"\n",
      "[1] \"Pearson Method\"\n"
     ]
    },
    {
     "data": {
      "text/html": [
       "<span style=white-space:pre-wrap>'The pearson t-value is  562.176262165675'</span>"
      ],
      "text/latex": [
       "'The pearson t-value is  562.176262165675'"
      ],
      "text/markdown": [
       "<span style=white-space:pre-wrap>'The pearson t-value is  562.176262165675'</span>"
      ],
      "text/plain": [
       "[1] \"The pearson t-value is  562.176262165675\""
      ]
     },
     "metadata": {},
     "output_type": "display_data"
    },
    {
     "data": {
      "text/html": [
       "<span style=white-space:pre-wrap>'The resulting p-value is  0'</span>"
      ],
      "text/latex": [
       "'The resulting p-value is  0'"
      ],
      "text/markdown": [
       "<span style=white-space:pre-wrap>'The resulting p-value is  0'</span>"
      ],
      "text/plain": [
       "[1] \"The resulting p-value is  0\""
      ]
     },
     "metadata": {},
     "output_type": "display_data"
    },
    {
     "name": "stdout",
     "output_type": "stream",
     "text": [
      "[1] \"The p-value is approximately 0; therefore, reject the null hypothesis of a good fit.\"\n"
     ]
    }
   ],
   "source": [
    "# Deviance\n",
    "\n",
    "print(\"Deviance Method\")\n",
    "paste(\"The deviance residual deviance for model1 is \", deviance(model1))\n",
    "paste(\"This correponds to a p-value of \", 1-pchisq(deviance(model1), 156))\n",
    "print(\"The p-value is approximately 0; therefore, reject the null hypothesis of a good fit.\")\n",
    "\n",
    "#Pearson\n",
    "\n",
    "print(\"Pearson Method\")\n",
    "pearson = residuals(model1, type=\"pearson\")\n",
    "pearson.tvalue = sum(pearson^2)\n",
    "paste(\"The pearson t-value is \", pearson.tvalue)\n",
    "paste(\"The resulting p-value is \", 1-pchisq(pearson.tvalue, 156))\n",
    "print(\"The p-value is approximately 0; therefore, reject the null hypothesis of a good fit.\")"
   ]
  },
  {
   "cell_type": "markdown",
   "metadata": {},
   "source": [
    "Both methods rejected the null hypothesis of a good fit. This contradicts the results in 2b that the model and coefficients were statistically significant. So although the coefficients were a good fit. Further exploration is needed because the model is not a good fit."
   ]
  },
  {
   "cell_type": "markdown",
   "metadata": {},
   "source": [
    "(b) 3.5 pts - Evaluate whether the deviance residuals are normally distributed by producing a QQ plot and histogram of the deviance residuals. What assessments can you make about the goodness of fit of **model1** based on these plots?"
   ]
  },
  {
   "cell_type": "code",
   "execution_count": 10,
   "metadata": {},
   "outputs": [
    {
     "data": {
      "image/png": "[encoded data removed]",
      "text/plain": [
       "Plot with title \"Normal Q-Q Plot\""
      ]
     },
     "metadata": {
      "image/png": {
       "height": 420,
       "width": 420
      }
     },
     "output_type": "display_data"
    },
    {
     "data": {
      "image/png": "[encoded data removed]",
      "text/plain": [
       "Plot with title \"Histogram of res\""
      ]
     },
     "metadata": {
      "image/png": {
       "height": 420,
       "width": 420
      }
     },
     "output_type": "display_data"
    }
   ],
   "source": [
    "res = resid(model1, type=\"deviance\")\n",
    "qqnorm(res, ylab = \"Std Residuals\")\n",
    "qqline(res,col=\"blue\", lwd=2)\n",
    "hist(res, 10, xlab=\"Std Residuals\")"
   ]
  },
  {
   "cell_type": "markdown",
   "metadata": {},
   "source": [
    "The q-q plot shows slight deviation from normal at the lower and upper quantiles while the histogram shows a normal distirubtion about the 0. These graphs suggest that model1 may be a good fit; however from the analysis completed in Q3a it was statistically shown that the model was not a good fit."
   ]
  },
  {
   "cell_type": "markdown",
   "metadata": {},
   "source": [
    "(c) 3 pts - Calculate the estimated dispersion parameter for this model. Is this an overdispersed model?"
   ]
  },
  {
   "cell_type": "code",
   "execution_count": 11,
   "metadata": {},
   "outputs": [
    {
     "data": {
      "text/html": [
       "4.05153868026779"
      ],
      "text/latex": [
       "4.05153868026779"
      ],
      "text/markdown": [
       "4.05153868026779"
      ],
      "text/plain": [
       "[1] 4.051539"
      ]
     },
     "metadata": {},
     "output_type": "display_data"
    }
   ],
   "source": [
    "sum(residuals(model1, type = \"deviance\")^2)/model1$df.residual"
   ]
  },
  {
   "cell_type": "markdown",
   "metadata": {},
   "source": [
    "The estimated dispersion parameter for model1 is greater than 2. Therefore the model is overdispersed."
   ]
  },
  {
   "cell_type": "markdown",
   "metadata": {},
   "source": [
    "# Question 4: Fitting the full model- 23 pts\n",
    "\n",
    "Fit a logistic regression model using *Staying* as the response variable with *Age.Group*, *Gender*, *Tenure*, *Num.Of.Products*, and *Is.Active.Member* as the predictors and logit as the link function. Ensure to include the weights parameter for specifying the number of trials. Call it **model2**. Note that Age.Group, Gender, Num.Of.Products, and Is.Active.Member should be treated as categorical variables."
   ]
  },
  {
   "cell_type": "code",
   "execution_count": null,
   "metadata": {},
   "outputs": [],
   "source": []
  },
  {
   "cell_type": "markdown",
   "metadata": {},
   "source": [
    "(a) 3 pts - Write down the equation for the probability of staying."
   ]
  },
  {
   "cell_type": "markdown",
   "metadata": {},
   "source": [
    "(b) 3 pts - Provide a meaningful interpretation for the estimated coefficients of *Tenure* and *Is.Active.Member1* with respect to the odds of staying.\n",
    "\n",
    "(c) 3 pts - Is *Is.Active.Member1* statistically significant given the other variables in model2 at the 0.01 significance level?\n",
    "\n",
    "(d) 10 pts - Has your goodness of fit been affected? Follow the instructions to repeat the tests, plots, and dispersion parameter calculation you performed in Question 3 with **model2**.\n",
    "\n",
    "(d-1) Perform goodness-of-fit hypothesis tests using both Deviance and Pearson residuals. What do you conclude?"
   ]
  },
  {
   "cell_type": "code",
   "execution_count": null,
   "metadata": {},
   "outputs": [],
   "source": []
  },
  {
   "cell_type": "markdown",
   "metadata": {},
   "source": [
    "(d-2) Evaluate the linearity assumption of **model2** by plotting the log-odds of Staying vs. **Tenure**. What do you conclude?"
   ]
  },
  {
   "cell_type": "code",
   "execution_count": null,
   "metadata": {},
   "outputs": [],
   "source": []
  },
  {
   "cell_type": "markdown",
   "metadata": {},
   "source": [
    "(d-3) Evaluate whether the deviance residuals are normally distributed by producing a QQ plot and histogram of the deviance residuals. What do you conclude?"
   ]
  },
  {
   "cell_type": "code",
   "execution_count": null,
   "metadata": {},
   "outputs": [],
   "source": []
  },
  {
   "cell_type": "markdown",
   "metadata": {},
   "source": [
    "(d-4) Calculate the estimated dispersion parameter for this model. Is this an overdispersed model?"
   ]
  },
  {
   "cell_type": "code",
   "execution_count": null,
   "metadata": {},
   "outputs": [],
   "source": []
  },
  {
   "cell_type": "markdown",
   "metadata": {},
   "source": [
    "(e) 4 pts - Overall, would you say model2 is a good-fitting model? If so, why? If not, what would you suggest to improve the fit and why? Note: We are not asking you to spend hours finding the best possible model but to offer plausible suggestions along with your reasoning."
   ]
  },
  {
   "cell_type": "code",
   "execution_count": null,
   "metadata": {},
   "outputs": [],
   "source": []
  },
  {
   "cell_type": "markdown",
   "metadata": {},
   "source": [
    "# Question 5: Prediction - 9 pts\n",
    "\n",
    "Suppose there is an employee with the following characteristics:\n",
    "\n",
    "1. **Age.Group**: 2\n",
    "\n",
    "2. **Gender**: 0\n",
    "\n",
    "3. **Tenure**: 2\n",
    "\n",
    "4. **Num.Of.Products**: 2\n",
    "\n",
    "5. **Is.Active.Member**: 1\n",
    "\n",
    "(a) 3 pts - Predict their probability of staying using model1."
   ]
  },
  {
   "cell_type": "code",
   "execution_count": null,
   "metadata": {},
   "outputs": [],
   "source": []
  },
  {
   "cell_type": "markdown",
   "metadata": {},
   "source": [
    "(b) 3 pts - Predict their probability of staying using model2."
   ]
  },
  {
   "cell_type": "code",
   "execution_count": null,
   "metadata": {},
   "outputs": [],
   "source": []
  },
  {
   "cell_type": "markdown",
   "metadata": {},
   "source": [
    "(c) 3 pts - Comment on how your predictions compare. i.e. which model is more reliable based on the analysis?"
   ]
  }
 ],
 "metadata": {
  "jupytext": {
   "cell_metadata_filter": "name,tags,-all",
   "main_language": "R",
   "notebook_metadata_filter": "-all"
  },
  "kernelspec": {
   "display_name": "R",
   "language": "R",
   "name": "ir"
  },
  "language_info": {
   "codemirror_mode": "r",
   "file_extension": ".r",
   "mimetype": "text/x-r-source",
   "name": "R",
   "pygments_lexer": "r",
   "version": "4.0.2"
  }
 },
 "nbformat": 4,
 "nbformat_minor": 4
}
